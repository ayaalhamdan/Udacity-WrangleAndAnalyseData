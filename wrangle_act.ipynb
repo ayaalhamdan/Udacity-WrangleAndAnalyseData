{
 "cells": [
  {
   "cell_type": "markdown",
   "metadata": {},
   "source": [
    "# Project: Wrangle and Analyze Data / Ayah Alhamdan   \n",
    "## Table of Contents\n",
    "<ul>\n",
    "<li><a href=\"#intro\">Introduction</a></li>\n",
    "<li><a href=\"#gath\">Gather Data</a></li>\n",
    "<li><a href=\"#as\">Assess Data</a></li>\n",
    "    <ul>\n",
    "    <li><a href=\"#q\">Quality Issues</a></li>\n",
    "    <li><a href=\"#t\">Tidiness Issues</a></li>\n",
    "    </ul>\n",
    "<li><a href=\"#clean\">Clean Data</a></li>\n",
    "<li><a href=\"#sav\">Storing, Analyzing, and Visualizing</a></li>\n",
    "<li><a href=\"#con\">Conclusion</a></li>\n",
    "</ul>"
   ]
  },
  {
   "cell_type": "markdown",
   "metadata": {},
   "source": [
    "<a id='intro'></a>\n",
    "## <font color='darkblue'>Introduction</font>  \n",
    "\n",
    "The aim of this project is to wrangle the WeRateDogs Twitter data to create interesting and trustworthy analyses and visualizations. This twitter account rates people's dogs with humorous comments. The account  received international media coverage and got popular on social media. To complete this project, the data needs to be gathered, assessed and cleaned to be able to analyze it and get some insights."
   ]
  },
  {
   "cell_type": "markdown",
   "metadata": {},
   "source": [
    "<a id='gath'></a>\n",
    "## <font color='darkblue'>Gather Data</font>\n",
    "\n",
    "1- Twitter archive file (downloaded from Udacity)    \n",
    "2- Image predictions file (using the tsv file and the URL from Udacity)    \n",
    "3- Twitter API & JSON    "
   ]
  },
  {
   "cell_type": "code",
   "execution_count": 1,
   "metadata": {},
   "outputs": [],
   "source": [
    "# import packages\n",
    "\n",
    "import pandas as pd\n",
    "import numpy as np\n",
    "import matplotlib.pyplot as plt\n",
    "%matplotlib inline\n",
    "import requests\n",
    "import tweepy\n",
    "import json"
   ]
  },
  {
   "cell_type": "code",
   "execution_count": 2,
   "metadata": {},
   "outputs": [
    {
     "data": {
      "text/html": [
       "<div>\n",
       "<style>\n",
       "    .dataframe thead tr:only-child th {\n",
       "        text-align: right;\n",
       "    }\n",
       "\n",
       "    .dataframe thead th {\n",
       "        text-align: left;\n",
       "    }\n",
       "\n",
       "    .dataframe tbody tr th {\n",
       "        vertical-align: top;\n",
       "    }\n",
       "</style>\n",
       "<table border=\"1\" class=\"dataframe\">\n",
       "  <thead>\n",
       "    <tr style=\"text-align: right;\">\n",
       "      <th></th>\n",
       "      <th>tweet_id</th>\n",
       "      <th>in_reply_to_status_id</th>\n",
       "      <th>in_reply_to_user_id</th>\n",
       "      <th>timestamp</th>\n",
       "      <th>source</th>\n",
       "      <th>text</th>\n",
       "      <th>retweeted_status_id</th>\n",
       "      <th>retweeted_status_user_id</th>\n",
       "      <th>retweeted_status_timestamp</th>\n",
       "      <th>expanded_urls</th>\n",
       "      <th>rating_numerator</th>\n",
       "      <th>rating_denominator</th>\n",
       "      <th>name</th>\n",
       "      <th>doggo</th>\n",
       "      <th>floofer</th>\n",
       "      <th>pupper</th>\n",
       "      <th>puppo</th>\n",
       "    </tr>\n",
       "  </thead>\n",
       "  <tbody>\n",
       "    <tr>\n",
       "      <th>0</th>\n",
       "      <td>892420643555336193</td>\n",
       "      <td>NaN</td>\n",
       "      <td>NaN</td>\n",
       "      <td>2017-08-01 16:23:56 +0000</td>\n",
       "      <td>&lt;a href=\"http://twitter.com/download/iphone\" r...</td>\n",
       "      <td>This is Phineas. He's a mystical boy. Only eve...</td>\n",
       "      <td>NaN</td>\n",
       "      <td>NaN</td>\n",
       "      <td>NaN</td>\n",
       "      <td>https://twitter.com/dog_rates/status/892420643...</td>\n",
       "      <td>13</td>\n",
       "      <td>10</td>\n",
       "      <td>Phineas</td>\n",
       "      <td>None</td>\n",
       "      <td>None</td>\n",
       "      <td>None</td>\n",
       "      <td>None</td>\n",
       "    </tr>\n",
       "    <tr>\n",
       "      <th>1</th>\n",
       "      <td>892177421306343426</td>\n",
       "      <td>NaN</td>\n",
       "      <td>NaN</td>\n",
       "      <td>2017-08-01 00:17:27 +0000</td>\n",
       "      <td>&lt;a href=\"http://twitter.com/download/iphone\" r...</td>\n",
       "      <td>This is Tilly. She's just checking pup on you....</td>\n",
       "      <td>NaN</td>\n",
       "      <td>NaN</td>\n",
       "      <td>NaN</td>\n",
       "      <td>https://twitter.com/dog_rates/status/892177421...</td>\n",
       "      <td>13</td>\n",
       "      <td>10</td>\n",
       "      <td>Tilly</td>\n",
       "      <td>None</td>\n",
       "      <td>None</td>\n",
       "      <td>None</td>\n",
       "      <td>None</td>\n",
       "    </tr>\n",
       "    <tr>\n",
       "      <th>2</th>\n",
       "      <td>891815181378084864</td>\n",
       "      <td>NaN</td>\n",
       "      <td>NaN</td>\n",
       "      <td>2017-07-31 00:18:03 +0000</td>\n",
       "      <td>&lt;a href=\"http://twitter.com/download/iphone\" r...</td>\n",
       "      <td>This is Archie. He is a rare Norwegian Pouncin...</td>\n",
       "      <td>NaN</td>\n",
       "      <td>NaN</td>\n",
       "      <td>NaN</td>\n",
       "      <td>https://twitter.com/dog_rates/status/891815181...</td>\n",
       "      <td>12</td>\n",
       "      <td>10</td>\n",
       "      <td>Archie</td>\n",
       "      <td>None</td>\n",
       "      <td>None</td>\n",
       "      <td>None</td>\n",
       "      <td>None</td>\n",
       "    </tr>\n",
       "    <tr>\n",
       "      <th>3</th>\n",
       "      <td>891689557279858688</td>\n",
       "      <td>NaN</td>\n",
       "      <td>NaN</td>\n",
       "      <td>2017-07-30 15:58:51 +0000</td>\n",
       "      <td>&lt;a href=\"http://twitter.com/download/iphone\" r...</td>\n",
       "      <td>This is Darla. She commenced a snooze mid meal...</td>\n",
       "      <td>NaN</td>\n",
       "      <td>NaN</td>\n",
       "      <td>NaN</td>\n",
       "      <td>https://twitter.com/dog_rates/status/891689557...</td>\n",
       "      <td>13</td>\n",
       "      <td>10</td>\n",
       "      <td>Darla</td>\n",
       "      <td>None</td>\n",
       "      <td>None</td>\n",
       "      <td>None</td>\n",
       "      <td>None</td>\n",
       "    </tr>\n",
       "    <tr>\n",
       "      <th>4</th>\n",
       "      <td>891327558926688256</td>\n",
       "      <td>NaN</td>\n",
       "      <td>NaN</td>\n",
       "      <td>2017-07-29 16:00:24 +0000</td>\n",
       "      <td>&lt;a href=\"http://twitter.com/download/iphone\" r...</td>\n",
       "      <td>This is Franklin. He would like you to stop ca...</td>\n",
       "      <td>NaN</td>\n",
       "      <td>NaN</td>\n",
       "      <td>NaN</td>\n",
       "      <td>https://twitter.com/dog_rates/status/891327558...</td>\n",
       "      <td>12</td>\n",
       "      <td>10</td>\n",
       "      <td>Franklin</td>\n",
       "      <td>None</td>\n",
       "      <td>None</td>\n",
       "      <td>None</td>\n",
       "      <td>None</td>\n",
       "    </tr>\n",
       "  </tbody>\n",
       "</table>\n",
       "</div>"
      ],
      "text/plain": [
       "             tweet_id  in_reply_to_status_id  in_reply_to_user_id  \\\n",
       "0  892420643555336193                    NaN                  NaN   \n",
       "1  892177421306343426                    NaN                  NaN   \n",
       "2  891815181378084864                    NaN                  NaN   \n",
       "3  891689557279858688                    NaN                  NaN   \n",
       "4  891327558926688256                    NaN                  NaN   \n",
       "\n",
       "                   timestamp  \\\n",
       "0  2017-08-01 16:23:56 +0000   \n",
       "1  2017-08-01 00:17:27 +0000   \n",
       "2  2017-07-31 00:18:03 +0000   \n",
       "3  2017-07-30 15:58:51 +0000   \n",
       "4  2017-07-29 16:00:24 +0000   \n",
       "\n",
       "                                              source  \\\n",
       "0  <a href=\"http://twitter.com/download/iphone\" r...   \n",
       "1  <a href=\"http://twitter.com/download/iphone\" r...   \n",
       "2  <a href=\"http://twitter.com/download/iphone\" r...   \n",
       "3  <a href=\"http://twitter.com/download/iphone\" r...   \n",
       "4  <a href=\"http://twitter.com/download/iphone\" r...   \n",
       "\n",
       "                                                text  retweeted_status_id  \\\n",
       "0  This is Phineas. He's a mystical boy. Only eve...                  NaN   \n",
       "1  This is Tilly. She's just checking pup on you....                  NaN   \n",
       "2  This is Archie. He is a rare Norwegian Pouncin...                  NaN   \n",
       "3  This is Darla. She commenced a snooze mid meal...                  NaN   \n",
       "4  This is Franklin. He would like you to stop ca...                  NaN   \n",
       "\n",
       "   retweeted_status_user_id retweeted_status_timestamp  \\\n",
       "0                       NaN                        NaN   \n",
       "1                       NaN                        NaN   \n",
       "2                       NaN                        NaN   \n",
       "3                       NaN                        NaN   \n",
       "4                       NaN                        NaN   \n",
       "\n",
       "                                       expanded_urls  rating_numerator  \\\n",
       "0  https://twitter.com/dog_rates/status/892420643...                13   \n",
       "1  https://twitter.com/dog_rates/status/892177421...                13   \n",
       "2  https://twitter.com/dog_rates/status/891815181...                12   \n",
       "3  https://twitter.com/dog_rates/status/891689557...                13   \n",
       "4  https://twitter.com/dog_rates/status/891327558...                12   \n",
       "\n",
       "   rating_denominator      name doggo floofer pupper puppo  \n",
       "0                  10   Phineas  None    None   None  None  \n",
       "1                  10     Tilly  None    None   None  None  \n",
       "2                  10    Archie  None    None   None  None  \n",
       "3                  10     Darla  None    None   None  None  \n",
       "4                  10  Franklin  None    None   None  None  "
      ]
     },
     "execution_count": 2,
     "metadata": {},
     "output_type": "execute_result"
    }
   ],
   "source": [
    "# 1- read twitter archive file\n",
    "arch = pd.read_csv('twitter-archive-enhanced.csv')\n",
    "arch.head()"
   ]
  },
  {
   "cell_type": "code",
   "execution_count": 3,
   "metadata": {},
   "outputs": [
    {
     "name": "stdout",
     "output_type": "stream",
     "text": [
      "<class 'pandas.core.frame.DataFrame'>\n",
      "RangeIndex: 2356 entries, 0 to 2355\n",
      "Data columns (total 17 columns):\n",
      "tweet_id                      2356 non-null int64\n",
      "in_reply_to_status_id         78 non-null float64\n",
      "in_reply_to_user_id           78 non-null float64\n",
      "timestamp                     2356 non-null object\n",
      "source                        2356 non-null object\n",
      "text                          2356 non-null object\n",
      "retweeted_status_id           181 non-null float64\n",
      "retweeted_status_user_id      181 non-null float64\n",
      "retweeted_status_timestamp    181 non-null object\n",
      "expanded_urls                 2297 non-null object\n",
      "rating_numerator              2356 non-null int64\n",
      "rating_denominator            2356 non-null int64\n",
      "name                          2356 non-null object\n",
      "doggo                         2356 non-null object\n",
      "floofer                       2356 non-null object\n",
      "pupper                        2356 non-null object\n",
      "puppo                         2356 non-null object\n",
      "dtypes: float64(4), int64(3), object(10)\n",
      "memory usage: 313.0+ KB\n"
     ]
    }
   ],
   "source": [
    "arch.info()"
   ]
  },
  {
   "cell_type": "code",
   "execution_count": 4,
   "metadata": {},
   "outputs": [
    {
     "data": {
      "text/html": [
       "<div>\n",
       "<style>\n",
       "    .dataframe thead tr:only-child th {\n",
       "        text-align: right;\n",
       "    }\n",
       "\n",
       "    .dataframe thead th {\n",
       "        text-align: left;\n",
       "    }\n",
       "\n",
       "    .dataframe tbody tr th {\n",
       "        vertical-align: top;\n",
       "    }\n",
       "</style>\n",
       "<table border=\"1\" class=\"dataframe\">\n",
       "  <thead>\n",
       "    <tr style=\"text-align: right;\">\n",
       "      <th></th>\n",
       "      <th>tweet_id</th>\n",
       "      <th>jpg_url</th>\n",
       "      <th>img_num</th>\n",
       "      <th>p1</th>\n",
       "      <th>p1_conf</th>\n",
       "      <th>p1_dog</th>\n",
       "      <th>p2</th>\n",
       "      <th>p2_conf</th>\n",
       "      <th>p2_dog</th>\n",
       "      <th>p3</th>\n",
       "      <th>p3_conf</th>\n",
       "      <th>p3_dog</th>\n",
       "    </tr>\n",
       "  </thead>\n",
       "  <tbody>\n",
       "    <tr>\n",
       "      <th>0</th>\n",
       "      <td>666020888022790149</td>\n",
       "      <td>https://pbs.twimg.com/media/CT4udn0WwAA0aMy.jpg</td>\n",
       "      <td>1</td>\n",
       "      <td>Welsh_springer_spaniel</td>\n",
       "      <td>0.465074</td>\n",
       "      <td>True</td>\n",
       "      <td>collie</td>\n",
       "      <td>0.156665</td>\n",
       "      <td>True</td>\n",
       "      <td>Shetland_sheepdog</td>\n",
       "      <td>0.061428</td>\n",
       "      <td>True</td>\n",
       "    </tr>\n",
       "    <tr>\n",
       "      <th>1</th>\n",
       "      <td>666029285002620928</td>\n",
       "      <td>https://pbs.twimg.com/media/CT42GRgUYAA5iDo.jpg</td>\n",
       "      <td>1</td>\n",
       "      <td>redbone</td>\n",
       "      <td>0.506826</td>\n",
       "      <td>True</td>\n",
       "      <td>miniature_pinscher</td>\n",
       "      <td>0.074192</td>\n",
       "      <td>True</td>\n",
       "      <td>Rhodesian_ridgeback</td>\n",
       "      <td>0.072010</td>\n",
       "      <td>True</td>\n",
       "    </tr>\n",
       "    <tr>\n",
       "      <th>2</th>\n",
       "      <td>666033412701032449</td>\n",
       "      <td>https://pbs.twimg.com/media/CT4521TWwAEvMyu.jpg</td>\n",
       "      <td>1</td>\n",
       "      <td>German_shepherd</td>\n",
       "      <td>0.596461</td>\n",
       "      <td>True</td>\n",
       "      <td>malinois</td>\n",
       "      <td>0.138584</td>\n",
       "      <td>True</td>\n",
       "      <td>bloodhound</td>\n",
       "      <td>0.116197</td>\n",
       "      <td>True</td>\n",
       "    </tr>\n",
       "    <tr>\n",
       "      <th>3</th>\n",
       "      <td>666044226329800704</td>\n",
       "      <td>https://pbs.twimg.com/media/CT5Dr8HUEAA-lEu.jpg</td>\n",
       "      <td>1</td>\n",
       "      <td>Rhodesian_ridgeback</td>\n",
       "      <td>0.408143</td>\n",
       "      <td>True</td>\n",
       "      <td>redbone</td>\n",
       "      <td>0.360687</td>\n",
       "      <td>True</td>\n",
       "      <td>miniature_pinscher</td>\n",
       "      <td>0.222752</td>\n",
       "      <td>True</td>\n",
       "    </tr>\n",
       "    <tr>\n",
       "      <th>4</th>\n",
       "      <td>666049248165822465</td>\n",
       "      <td>https://pbs.twimg.com/media/CT5IQmsXIAAKY4A.jpg</td>\n",
       "      <td>1</td>\n",
       "      <td>miniature_pinscher</td>\n",
       "      <td>0.560311</td>\n",
       "      <td>True</td>\n",
       "      <td>Rottweiler</td>\n",
       "      <td>0.243682</td>\n",
       "      <td>True</td>\n",
       "      <td>Doberman</td>\n",
       "      <td>0.154629</td>\n",
       "      <td>True</td>\n",
       "    </tr>\n",
       "  </tbody>\n",
       "</table>\n",
       "</div>"
      ],
      "text/plain": [
       "             tweet_id                                          jpg_url  \\\n",
       "0  666020888022790149  https://pbs.twimg.com/media/CT4udn0WwAA0aMy.jpg   \n",
       "1  666029285002620928  https://pbs.twimg.com/media/CT42GRgUYAA5iDo.jpg   \n",
       "2  666033412701032449  https://pbs.twimg.com/media/CT4521TWwAEvMyu.jpg   \n",
       "3  666044226329800704  https://pbs.twimg.com/media/CT5Dr8HUEAA-lEu.jpg   \n",
       "4  666049248165822465  https://pbs.twimg.com/media/CT5IQmsXIAAKY4A.jpg   \n",
       "\n",
       "   img_num                      p1   p1_conf  p1_dog                  p2  \\\n",
       "0        1  Welsh_springer_spaniel  0.465074    True              collie   \n",
       "1        1                 redbone  0.506826    True  miniature_pinscher   \n",
       "2        1         German_shepherd  0.596461    True            malinois   \n",
       "3        1     Rhodesian_ridgeback  0.408143    True             redbone   \n",
       "4        1      miniature_pinscher  0.560311    True          Rottweiler   \n",
       "\n",
       "    p2_conf  p2_dog                   p3   p3_conf  p3_dog  \n",
       "0  0.156665    True    Shetland_sheepdog  0.061428    True  \n",
       "1  0.074192    True  Rhodesian_ridgeback  0.072010    True  \n",
       "2  0.138584    True           bloodhound  0.116197    True  \n",
       "3  0.360687    True   miniature_pinscher  0.222752    True  \n",
       "4  0.243682    True             Doberman  0.154629    True  "
      ]
     },
     "execution_count": 4,
     "metadata": {},
     "output_type": "execute_result"
    }
   ],
   "source": [
    "# 2- image predictions\n",
    "\n",
    "url = requests.get(\"https://d17h27t6h515a5.cloudfront.net/topher/2017/August/599fd2ad_image-predictions/image-predictions.tsv\")\n",
    "with open('image-predictions.tsv', mode ='wb') as file:\n",
    "    file.write(url.content)\n",
    "\n",
    "img = pd.read_csv('image-predictions.tsv', sep='\\t' )\n",
    "img.head()"
   ]
  },
  {
   "cell_type": "code",
   "execution_count": 5,
   "metadata": {},
   "outputs": [
    {
     "name": "stdout",
     "output_type": "stream",
     "text": [
      "<class 'pandas.core.frame.DataFrame'>\n",
      "RangeIndex: 2075 entries, 0 to 2074\n",
      "Data columns (total 12 columns):\n",
      "tweet_id    2075 non-null int64\n",
      "jpg_url     2075 non-null object\n",
      "img_num     2075 non-null int64\n",
      "p1          2075 non-null object\n",
      "p1_conf     2075 non-null float64\n",
      "p1_dog      2075 non-null bool\n",
      "p2          2075 non-null object\n",
      "p2_conf     2075 non-null float64\n",
      "p2_dog      2075 non-null bool\n",
      "p3          2075 non-null object\n",
      "p3_conf     2075 non-null float64\n",
      "p3_dog      2075 non-null bool\n",
      "dtypes: bool(3), float64(3), int64(2), object(4)\n",
      "memory usage: 152.1+ KB\n"
     ]
    }
   ],
   "source": [
    "img.info()"
   ]
  },
  {
   "cell_type": "markdown",
   "metadata": {},
   "source": [
    ">**//note:** The third dataset was downloaded from Udacity since my twitter developer app is still pending and I don't have access to the twitter API code. The block of code below is copied from Udacity (does't have a valid output)."
   ]
  },
  {
   "cell_type": "code",
   "execution_count": null,
   "metadata": {},
   "outputs": [],
   "source": [
    "# 3- query twitter API for JSON data in each tweet id\n",
    "# The code below is from \"twitter-api.py\" provided in Udacity classroom\n",
    "\n",
    "import tweepy\n",
    "from tweepy import OAuthHandler\n",
    "import json\n",
    "from timeit import default_timer as timer\n",
    "\n",
    "# Query Twitter API for each tweet in the Twitter archive and save JSON in a text file\n",
    "# These are hidden to comply with Twitter's API terms and conditions\n",
    "consumer_key = 'HIDDEN'\n",
    "consumer_secret = 'HIDDEN'\n",
    "access_token = 'HIDDEN'\n",
    "access_secret = 'HIDDEN'\n",
    "\n",
    "auth = OAuthHandler(consumer_key, consumer_secret)\n",
    "auth.set_access_token(access_token, access_secret)\n",
    "\n",
    "api = tweepy.API(auth, wait_on_rate_limit=True)\n",
    "\n",
    "# NOTE TO REVIEWER: this student had mobile verification issues so the following\n",
    "# Twitter API code was sent to this student from a Udacity instructor\n",
    "# Tweet IDs for which to gather additional data via Twitter's API\n",
    "tweet_ids = arch.tweet_id.values\n",
    "len(tweet_ids)\n",
    "\n",
    "# Query Twitter's API for JSON data for each tweet ID in the Twitter archive\n",
    "count = 0\n",
    "fails_dict = {}\n",
    "start = timer()\n",
    "# Save each tweet's returned JSON as a new line in a .txt file\n",
    "with open('tweet_json.txt', 'w') as outfile:\n",
    "    # This loop will likely take 20-30 minutes to run because of Twitter's rate limit\n",
    "    for tweet_id in tweet_ids:\n",
    "        count += 1\n",
    "        print(str(count) + \": \" + str(tweet_id))\n",
    "        try:\n",
    "            tweet = api.get_status(tweet_id, tweet_mode='extended')\n",
    "            print(\"Success\")\n",
    "            json.dump(tweet._json, outfile)\n",
    "            outfile.write('\\n')\n",
    "        except tweepy.TweepError as e:\n",
    "            print(\"Fail\")\n",
    "            fails_dict[tweet_id] = e\n",
    "            pass\n",
    "end = timer()\n",
    "print(end - start)\n",
    "print(fails_dict)"
   ]
  },
  {
   "cell_type": "code",
   "execution_count": 6,
   "metadata": {
    "scrolled": true
   },
   "outputs": [
    {
     "name": "stdout",
     "output_type": "stream",
     "text": [
      "{'created_at': 'Tue Aug 01 16:23:56 +0000 2017', 'id': 892420643555336193, 'id_str': '892420643555336193', 'full_text': \"This is Phineas. He's a mystical boy. Only ever appears in the hole of a donut. 13/10 https://t.co/MgUWQ76dJU\", 'truncated': False, 'display_text_range': [0, 85], 'entities': {'hashtags': [], 'symbols': [], 'user_mentions': [], 'urls': [], 'media': [{'id': 892420639486877696, 'id_str': '892420639486877696', 'indices': [86, 109], 'media_url': 'http://pbs.twimg.com/media/DGKD1-bXoAAIAUK.jpg', 'media_url_https': 'https://pbs.twimg.com/media/DGKD1-bXoAAIAUK.jpg', 'url': 'https://t.co/MgUWQ76dJU', 'display_url': 'pic.twitter.com/MgUWQ76dJU', 'expanded_url': 'https://twitter.com/dog_rates/status/892420643555336193/photo/1', 'type': 'photo', 'sizes': {'large': {'w': 540, 'h': 528, 'resize': 'fit'}, 'thumb': {'w': 150, 'h': 150, 'resize': 'crop'}, 'small': {'w': 540, 'h': 528, 'resize': 'fit'}, 'medium': {'w': 540, 'h': 528, 'resize': 'fit'}}}]}, 'extended_entities': {'media': [{'id': 892420639486877696, 'id_str': '892420639486877696', 'indices': [86, 109], 'media_url': 'http://pbs.twimg.com/media/DGKD1-bXoAAIAUK.jpg', 'media_url_https': 'https://pbs.twimg.com/media/DGKD1-bXoAAIAUK.jpg', 'url': 'https://t.co/MgUWQ76dJU', 'display_url': 'pic.twitter.com/MgUWQ76dJU', 'expanded_url': 'https://twitter.com/dog_rates/status/892420643555336193/photo/1', 'type': 'photo', 'sizes': {'large': {'w': 540, 'h': 528, 'resize': 'fit'}, 'thumb': {'w': 150, 'h': 150, 'resize': 'crop'}, 'small': {'w': 540, 'h': 528, 'resize': 'fit'}, 'medium': {'w': 540, 'h': 528, 'resize': 'fit'}}}]}, 'source': '<a href=\"http://twitter.com/download/iphone\" rel=\"nofollow\">Twitter for iPhone</a>', 'in_reply_to_status_id': None, 'in_reply_to_status_id_str': None, 'in_reply_to_user_id': None, 'in_reply_to_user_id_str': None, 'in_reply_to_screen_name': None, 'user': {'id': 4196983835, 'id_str': '4196983835', 'name': 'WeRateDogs™ (author)', 'screen_name': 'dog_rates', 'location': 'DM YOUR DOGS, WE WILL RATE', 'description': '#1 Source for Professional Dog Ratings | STORE: @ShopWeRateDogs | IG, FB & SC: WeRateDogs MOBILE APP: @GoodDogsGame | Business: dogratingtwitter@gmail.com', 'url': 'https://t.co/N7sNNHAEXS', 'entities': {'url': {'urls': [{'url': 'https://t.co/N7sNNHAEXS', 'expanded_url': 'http://weratedogs.com', 'display_url': 'weratedogs.com', 'indices': [0, 23]}]}, 'description': {'urls': []}}, 'protected': False, 'followers_count': 3200889, 'friends_count': 104, 'listed_count': 2784, 'created_at': 'Sun Nov 15 21:41:29 +0000 2015', 'favourites_count': 114031, 'utc_offset': None, 'time_zone': None, 'geo_enabled': True, 'verified': True, 'statuses_count': 5288, 'lang': 'en', 'contributors_enabled': False, 'is_translator': False, 'is_translation_enabled': False, 'profile_background_color': '000000', 'profile_background_image_url': 'http://abs.twimg.com/images/themes/theme1/bg.png', 'profile_background_image_url_https': 'https://abs.twimg.com/images/themes/theme1/bg.png', 'profile_background_tile': False, 'profile_image_url': 'http://pbs.twimg.com/profile_images/861415328504569856/R2xOOfwe_normal.jpg', 'profile_image_url_https': 'https://pbs.twimg.com/profile_images/861415328504569856/R2xOOfwe_normal.jpg', 'profile_banner_url': 'https://pbs.twimg.com/profile_banners/4196983835/1501129017', 'profile_link_color': 'F5ABB5', 'profile_sidebar_border_color': '000000', 'profile_sidebar_fill_color': '000000', 'profile_text_color': '000000', 'profile_use_background_image': False, 'has_extended_profile': True, 'default_profile': False, 'default_profile_image': False, 'following': True, 'follow_request_sent': False, 'notifications': False, 'translator_type': 'none'}, 'geo': None, 'coordinates': None, 'place': None, 'contributors': None, 'is_quote_status': False, 'retweet_count': 8853, 'favorite_count': 39467, 'favorited': False, 'retweeted': False, 'possibly_sensitive': False, 'possibly_sensitive_appealable': False, 'lang': 'en'}\n"
     ]
    }
   ],
   "source": [
    "# read tweet-json.txt and append each tweet to tweets list\n",
    "\n",
    "tweets = []\n",
    "for line in open('tweet-json.txt', 'r'):\n",
    "    tweets.append(json.loads(line))\n",
    "\n",
    "# print first element to see available info\n",
    "print(tweets[0])"
   ]
  },
  {
   "cell_type": "code",
   "execution_count": 7,
   "metadata": {},
   "outputs": [],
   "source": [
    "# save wanted columns to a dataframe\n",
    "\n",
    "tweet_list =[]\n",
    "for element in tweets:\n",
    "        tweet_id = element['id']\n",
    "        favorites = element['favorite_count']\n",
    "        retweets = element['retweet_count']\n",
    "        followers = element['user']['followers_count']\n",
    "        if element['retweeted'] == False:\n",
    "            retweeted_status = \"Original tweet\"\n",
    "        else:\n",
    "            retweeted_status = \"Retweet\"\n",
    "        \n",
    "            \n",
    "        tweet_list.append({'id': str(tweet_id),\n",
    "                             'favorites': int(favorites),\n",
    "                             'retweets': int(retweets),\n",
    "                             'followers': int(followers),\n",
    "                             'retweeted_status': retweeted_status,\n",
    "                            })\n",
    "        \n",
    "        tweet_df = pd.DataFrame(tweet_list, columns = ['id', 'favorites','retweets',\n",
    "                                                       'followers', 'retweeted_status'])"
   ]
  },
  {
   "cell_type": "code",
   "execution_count": 8,
   "metadata": {},
   "outputs": [
    {
     "name": "stdout",
     "output_type": "stream",
     "text": [
      "<class 'pandas.core.frame.DataFrame'>\n",
      "RangeIndex: 2354 entries, 0 to 2353\n",
      "Data columns (total 5 columns):\n",
      "id                  2354 non-null object\n",
      "favorites           2354 non-null int64\n",
      "retweets            2354 non-null int64\n",
      "followers           2354 non-null int64\n",
      "retweeted_status    2354 non-null object\n",
      "dtypes: int64(3), object(2)\n",
      "memory usage: 92.0+ KB\n"
     ]
    }
   ],
   "source": [
    "tweet_df.info()"
   ]
  },
  {
   "cell_type": "code",
   "execution_count": 9,
   "metadata": {},
   "outputs": [
    {
     "data": {
      "text/html": [
       "<div>\n",
       "<style>\n",
       "    .dataframe thead tr:only-child th {\n",
       "        text-align: right;\n",
       "    }\n",
       "\n",
       "    .dataframe thead th {\n",
       "        text-align: left;\n",
       "    }\n",
       "\n",
       "    .dataframe tbody tr th {\n",
       "        vertical-align: top;\n",
       "    }\n",
       "</style>\n",
       "<table border=\"1\" class=\"dataframe\">\n",
       "  <thead>\n",
       "    <tr style=\"text-align: right;\">\n",
       "      <th></th>\n",
       "      <th>id</th>\n",
       "      <th>favorites</th>\n",
       "      <th>retweets</th>\n",
       "      <th>followers</th>\n",
       "      <th>retweeted_status</th>\n",
       "    </tr>\n",
       "  </thead>\n",
       "  <tbody>\n",
       "    <tr>\n",
       "      <th>0</th>\n",
       "      <td>892420643555336193</td>\n",
       "      <td>39467</td>\n",
       "      <td>8853</td>\n",
       "      <td>3200889</td>\n",
       "      <td>Original tweet</td>\n",
       "    </tr>\n",
       "    <tr>\n",
       "      <th>1</th>\n",
       "      <td>892177421306343426</td>\n",
       "      <td>33819</td>\n",
       "      <td>6514</td>\n",
       "      <td>3200889</td>\n",
       "      <td>Original tweet</td>\n",
       "    </tr>\n",
       "    <tr>\n",
       "      <th>2</th>\n",
       "      <td>891815181378084864</td>\n",
       "      <td>25461</td>\n",
       "      <td>4328</td>\n",
       "      <td>3200889</td>\n",
       "      <td>Original tweet</td>\n",
       "    </tr>\n",
       "    <tr>\n",
       "      <th>3</th>\n",
       "      <td>891689557279858688</td>\n",
       "      <td>42908</td>\n",
       "      <td>8964</td>\n",
       "      <td>3200889</td>\n",
       "      <td>Original tweet</td>\n",
       "    </tr>\n",
       "    <tr>\n",
       "      <th>4</th>\n",
       "      <td>891327558926688256</td>\n",
       "      <td>41048</td>\n",
       "      <td>9774</td>\n",
       "      <td>3200889</td>\n",
       "      <td>Original tweet</td>\n",
       "    </tr>\n",
       "    <tr>\n",
       "      <th>5</th>\n",
       "      <td>891087950875897856</td>\n",
       "      <td>20562</td>\n",
       "      <td>3261</td>\n",
       "      <td>3200889</td>\n",
       "      <td>Original tweet</td>\n",
       "    </tr>\n",
       "    <tr>\n",
       "      <th>6</th>\n",
       "      <td>890971913173991426</td>\n",
       "      <td>12041</td>\n",
       "      <td>2158</td>\n",
       "      <td>3200889</td>\n",
       "      <td>Original tweet</td>\n",
       "    </tr>\n",
       "    <tr>\n",
       "      <th>7</th>\n",
       "      <td>890729181411237888</td>\n",
       "      <td>56848</td>\n",
       "      <td>16716</td>\n",
       "      <td>3200889</td>\n",
       "      <td>Original tweet</td>\n",
       "    </tr>\n",
       "    <tr>\n",
       "      <th>8</th>\n",
       "      <td>890609185150312448</td>\n",
       "      <td>28226</td>\n",
       "      <td>4429</td>\n",
       "      <td>3200889</td>\n",
       "      <td>Original tweet</td>\n",
       "    </tr>\n",
       "    <tr>\n",
       "      <th>9</th>\n",
       "      <td>890240255349198849</td>\n",
       "      <td>32467</td>\n",
       "      <td>7711</td>\n",
       "      <td>3200889</td>\n",
       "      <td>Original tweet</td>\n",
       "    </tr>\n",
       "  </tbody>\n",
       "</table>\n",
       "</div>"
      ],
      "text/plain": [
       "                   id  favorites  retweets  followers retweeted_status\n",
       "0  892420643555336193      39467      8853    3200889   Original tweet\n",
       "1  892177421306343426      33819      6514    3200889   Original tweet\n",
       "2  891815181378084864      25461      4328    3200889   Original tweet\n",
       "3  891689557279858688      42908      8964    3200889   Original tweet\n",
       "4  891327558926688256      41048      9774    3200889   Original tweet\n",
       "5  891087950875897856      20562      3261    3200889   Original tweet\n",
       "6  890971913173991426      12041      2158    3200889   Original tweet\n",
       "7  890729181411237888      56848     16716    3200889   Original tweet\n",
       "8  890609185150312448      28226      4429    3200889   Original tweet\n",
       "9  890240255349198849      32467      7711    3200889   Original tweet"
      ]
     },
     "execution_count": 9,
     "metadata": {},
     "output_type": "execute_result"
    }
   ],
   "source": [
    "tweet_df.head(10)"
   ]
  },
  {
   "cell_type": "markdown",
   "metadata": {},
   "source": [
    "<a id='as'></a>\n",
    "## <font color='darkblue'>Assess Data</font>\n",
    "\n",
    ">Now let's look at the three dataframes we have:"
   ]
  },
  {
   "cell_type": "code",
   "execution_count": 10,
   "metadata": {},
   "outputs": [
    {
     "name": "stdout",
     "output_type": "stream",
     "text": [
      "<class 'pandas.core.frame.DataFrame'>\n",
      "RangeIndex: 2356 entries, 0 to 2355\n",
      "Data columns (total 17 columns):\n",
      "tweet_id                      2356 non-null int64\n",
      "in_reply_to_status_id         78 non-null float64\n",
      "in_reply_to_user_id           78 non-null float64\n",
      "timestamp                     2356 non-null object\n",
      "source                        2356 non-null object\n",
      "text                          2356 non-null object\n",
      "retweeted_status_id           181 non-null float64\n",
      "retweeted_status_user_id      181 non-null float64\n",
      "retweeted_status_timestamp    181 non-null object\n",
      "expanded_urls                 2297 non-null object\n",
      "rating_numerator              2356 non-null int64\n",
      "rating_denominator            2356 non-null int64\n",
      "name                          2356 non-null object\n",
      "doggo                         2356 non-null object\n",
      "floofer                       2356 non-null object\n",
      "pupper                        2356 non-null object\n",
      "puppo                         2356 non-null object\n",
      "dtypes: float64(4), int64(3), object(10)\n",
      "memory usage: 313.0+ KB\n"
     ]
    }
   ],
   "source": [
    "arch.info()"
   ]
  },
  {
   "cell_type": "code",
   "execution_count": 11,
   "metadata": {},
   "outputs": [
    {
     "name": "stdout",
     "output_type": "stream",
     "text": [
      "<class 'pandas.core.frame.DataFrame'>\n",
      "RangeIndex: 2075 entries, 0 to 2074\n",
      "Data columns (total 12 columns):\n",
      "tweet_id    2075 non-null int64\n",
      "jpg_url     2075 non-null object\n",
      "img_num     2075 non-null int64\n",
      "p1          2075 non-null object\n",
      "p1_conf     2075 non-null float64\n",
      "p1_dog      2075 non-null bool\n",
      "p2          2075 non-null object\n",
      "p2_conf     2075 non-null float64\n",
      "p2_dog      2075 non-null bool\n",
      "p3          2075 non-null object\n",
      "p3_conf     2075 non-null float64\n",
      "p3_dog      2075 non-null bool\n",
      "dtypes: bool(3), float64(3), int64(2), object(4)\n",
      "memory usage: 152.1+ KB\n"
     ]
    }
   ],
   "source": [
    "img.info()"
   ]
  },
  {
   "cell_type": "code",
   "execution_count": 12,
   "metadata": {},
   "outputs": [
    {
     "name": "stdout",
     "output_type": "stream",
     "text": [
      "<class 'pandas.core.frame.DataFrame'>\n",
      "RangeIndex: 2354 entries, 0 to 2353\n",
      "Data columns (total 5 columns):\n",
      "id                  2354 non-null object\n",
      "favorites           2354 non-null int64\n",
      "retweets            2354 non-null int64\n",
      "followers           2354 non-null int64\n",
      "retweeted_status    2354 non-null object\n",
      "dtypes: int64(3), object(2)\n",
      "memory usage: 92.0+ KB\n"
     ]
    }
   ],
   "source": [
    "tweet_df.info()"
   ]
  },
  {
   "cell_type": "markdown",
   "metadata": {},
   "source": [
    "From the the previous outputs, we can see that the **id**s in the tables are different. To be able to merge these three tables, the columns have to have the same type and matching names. Also, it makes more sense to have **timestamp** as datetime type instead of object.     \n",
    "Moreover, the twitter archive dataset (**arch**) had columns with missing values. These columns are:\n",
    "in_reply_to_status_id, in_reply_to_user_id, retweeted_status_id, retweeted_status_user_id, retweeted_status_timestamp"
   ]
  },
  {
   "cell_type": "code",
   "execution_count": 13,
   "metadata": {},
   "outputs": [
    {
     "data": {
      "text/html": [
       "<div>\n",
       "<style>\n",
       "    .dataframe thead tr:only-child th {\n",
       "        text-align: right;\n",
       "    }\n",
       "\n",
       "    .dataframe thead th {\n",
       "        text-align: left;\n",
       "    }\n",
       "\n",
       "    .dataframe tbody tr th {\n",
       "        vertical-align: top;\n",
       "    }\n",
       "</style>\n",
       "<table border=\"1\" class=\"dataframe\">\n",
       "  <thead>\n",
       "    <tr style=\"text-align: right;\">\n",
       "      <th></th>\n",
       "      <th>tweet_id</th>\n",
       "      <th>in_reply_to_status_id</th>\n",
       "      <th>in_reply_to_user_id</th>\n",
       "      <th>timestamp</th>\n",
       "      <th>source</th>\n",
       "      <th>text</th>\n",
       "      <th>retweeted_status_id</th>\n",
       "      <th>retweeted_status_user_id</th>\n",
       "      <th>retweeted_status_timestamp</th>\n",
       "      <th>expanded_urls</th>\n",
       "      <th>rating_numerator</th>\n",
       "      <th>rating_denominator</th>\n",
       "      <th>name</th>\n",
       "      <th>doggo</th>\n",
       "      <th>floofer</th>\n",
       "      <th>pupper</th>\n",
       "      <th>puppo</th>\n",
       "    </tr>\n",
       "  </thead>\n",
       "  <tbody>\n",
       "    <tr>\n",
       "      <th>2346</th>\n",
       "      <td>666058600524156928</td>\n",
       "      <td>NaN</td>\n",
       "      <td>NaN</td>\n",
       "      <td>2015-11-16 01:01:59 +0000</td>\n",
       "      <td>&lt;a href=\"http://twitter.com/download/iphone\" r...</td>\n",
       "      <td>Here is the Rand Paul of retrievers folks! He'...</td>\n",
       "      <td>NaN</td>\n",
       "      <td>NaN</td>\n",
       "      <td>NaN</td>\n",
       "      <td>https://twitter.com/dog_rates/status/666058600...</td>\n",
       "      <td>8</td>\n",
       "      <td>10</td>\n",
       "      <td>the</td>\n",
       "      <td>None</td>\n",
       "      <td>None</td>\n",
       "      <td>None</td>\n",
       "      <td>None</td>\n",
       "    </tr>\n",
       "    <tr>\n",
       "      <th>2347</th>\n",
       "      <td>666057090499244032</td>\n",
       "      <td>NaN</td>\n",
       "      <td>NaN</td>\n",
       "      <td>2015-11-16 00:55:59 +0000</td>\n",
       "      <td>&lt;a href=\"http://twitter.com/download/iphone\" r...</td>\n",
       "      <td>My oh my. This is a rare blond Canadian terrie...</td>\n",
       "      <td>NaN</td>\n",
       "      <td>NaN</td>\n",
       "      <td>NaN</td>\n",
       "      <td>https://twitter.com/dog_rates/status/666057090...</td>\n",
       "      <td>9</td>\n",
       "      <td>10</td>\n",
       "      <td>a</td>\n",
       "      <td>None</td>\n",
       "      <td>None</td>\n",
       "      <td>None</td>\n",
       "      <td>None</td>\n",
       "    </tr>\n",
       "    <tr>\n",
       "      <th>2348</th>\n",
       "      <td>666055525042405380</td>\n",
       "      <td>NaN</td>\n",
       "      <td>NaN</td>\n",
       "      <td>2015-11-16 00:49:46 +0000</td>\n",
       "      <td>&lt;a href=\"http://twitter.com/download/iphone\" r...</td>\n",
       "      <td>Here is a Siberian heavily armored polar bear ...</td>\n",
       "      <td>NaN</td>\n",
       "      <td>NaN</td>\n",
       "      <td>NaN</td>\n",
       "      <td>https://twitter.com/dog_rates/status/666055525...</td>\n",
       "      <td>10</td>\n",
       "      <td>10</td>\n",
       "      <td>a</td>\n",
       "      <td>None</td>\n",
       "      <td>None</td>\n",
       "      <td>None</td>\n",
       "      <td>None</td>\n",
       "    </tr>\n",
       "    <tr>\n",
       "      <th>2349</th>\n",
       "      <td>666051853826850816</td>\n",
       "      <td>NaN</td>\n",
       "      <td>NaN</td>\n",
       "      <td>2015-11-16 00:35:11 +0000</td>\n",
       "      <td>&lt;a href=\"http://twitter.com/download/iphone\" r...</td>\n",
       "      <td>This is an odd dog. Hard on the outside but lo...</td>\n",
       "      <td>NaN</td>\n",
       "      <td>NaN</td>\n",
       "      <td>NaN</td>\n",
       "      <td>https://twitter.com/dog_rates/status/666051853...</td>\n",
       "      <td>2</td>\n",
       "      <td>10</td>\n",
       "      <td>an</td>\n",
       "      <td>None</td>\n",
       "      <td>None</td>\n",
       "      <td>None</td>\n",
       "      <td>None</td>\n",
       "    </tr>\n",
       "    <tr>\n",
       "      <th>2350</th>\n",
       "      <td>666050758794694657</td>\n",
       "      <td>NaN</td>\n",
       "      <td>NaN</td>\n",
       "      <td>2015-11-16 00:30:50 +0000</td>\n",
       "      <td>&lt;a href=\"http://twitter.com/download/iphone\" r...</td>\n",
       "      <td>This is a truly beautiful English Wilson Staff...</td>\n",
       "      <td>NaN</td>\n",
       "      <td>NaN</td>\n",
       "      <td>NaN</td>\n",
       "      <td>https://twitter.com/dog_rates/status/666050758...</td>\n",
       "      <td>10</td>\n",
       "      <td>10</td>\n",
       "      <td>a</td>\n",
       "      <td>None</td>\n",
       "      <td>None</td>\n",
       "      <td>None</td>\n",
       "      <td>None</td>\n",
       "    </tr>\n",
       "    <tr>\n",
       "      <th>2351</th>\n",
       "      <td>666049248165822465</td>\n",
       "      <td>NaN</td>\n",
       "      <td>NaN</td>\n",
       "      <td>2015-11-16 00:24:50 +0000</td>\n",
       "      <td>&lt;a href=\"http://twitter.com/download/iphone\" r...</td>\n",
       "      <td>Here we have a 1949 1st generation vulpix. Enj...</td>\n",
       "      <td>NaN</td>\n",
       "      <td>NaN</td>\n",
       "      <td>NaN</td>\n",
       "      <td>https://twitter.com/dog_rates/status/666049248...</td>\n",
       "      <td>5</td>\n",
       "      <td>10</td>\n",
       "      <td>None</td>\n",
       "      <td>None</td>\n",
       "      <td>None</td>\n",
       "      <td>None</td>\n",
       "      <td>None</td>\n",
       "    </tr>\n",
       "    <tr>\n",
       "      <th>2352</th>\n",
       "      <td>666044226329800704</td>\n",
       "      <td>NaN</td>\n",
       "      <td>NaN</td>\n",
       "      <td>2015-11-16 00:04:52 +0000</td>\n",
       "      <td>&lt;a href=\"http://twitter.com/download/iphone\" r...</td>\n",
       "      <td>This is a purebred Piers Morgan. Loves to Netf...</td>\n",
       "      <td>NaN</td>\n",
       "      <td>NaN</td>\n",
       "      <td>NaN</td>\n",
       "      <td>https://twitter.com/dog_rates/status/666044226...</td>\n",
       "      <td>6</td>\n",
       "      <td>10</td>\n",
       "      <td>a</td>\n",
       "      <td>None</td>\n",
       "      <td>None</td>\n",
       "      <td>None</td>\n",
       "      <td>None</td>\n",
       "    </tr>\n",
       "    <tr>\n",
       "      <th>2353</th>\n",
       "      <td>666033412701032449</td>\n",
       "      <td>NaN</td>\n",
       "      <td>NaN</td>\n",
       "      <td>2015-11-15 23:21:54 +0000</td>\n",
       "      <td>&lt;a href=\"http://twitter.com/download/iphone\" r...</td>\n",
       "      <td>Here is a very happy pup. Big fan of well-main...</td>\n",
       "      <td>NaN</td>\n",
       "      <td>NaN</td>\n",
       "      <td>NaN</td>\n",
       "      <td>https://twitter.com/dog_rates/status/666033412...</td>\n",
       "      <td>9</td>\n",
       "      <td>10</td>\n",
       "      <td>a</td>\n",
       "      <td>None</td>\n",
       "      <td>None</td>\n",
       "      <td>None</td>\n",
       "      <td>None</td>\n",
       "    </tr>\n",
       "    <tr>\n",
       "      <th>2354</th>\n",
       "      <td>666029285002620928</td>\n",
       "      <td>NaN</td>\n",
       "      <td>NaN</td>\n",
       "      <td>2015-11-15 23:05:30 +0000</td>\n",
       "      <td>&lt;a href=\"http://twitter.com/download/iphone\" r...</td>\n",
       "      <td>This is a western brown Mitsubishi terrier. Up...</td>\n",
       "      <td>NaN</td>\n",
       "      <td>NaN</td>\n",
       "      <td>NaN</td>\n",
       "      <td>https://twitter.com/dog_rates/status/666029285...</td>\n",
       "      <td>7</td>\n",
       "      <td>10</td>\n",
       "      <td>a</td>\n",
       "      <td>None</td>\n",
       "      <td>None</td>\n",
       "      <td>None</td>\n",
       "      <td>None</td>\n",
       "    </tr>\n",
       "    <tr>\n",
       "      <th>2355</th>\n",
       "      <td>666020888022790149</td>\n",
       "      <td>NaN</td>\n",
       "      <td>NaN</td>\n",
       "      <td>2015-11-15 22:32:08 +0000</td>\n",
       "      <td>&lt;a href=\"http://twitter.com/download/iphone\" r...</td>\n",
       "      <td>Here we have a Japanese Irish Setter. Lost eye...</td>\n",
       "      <td>NaN</td>\n",
       "      <td>NaN</td>\n",
       "      <td>NaN</td>\n",
       "      <td>https://twitter.com/dog_rates/status/666020888...</td>\n",
       "      <td>8</td>\n",
       "      <td>10</td>\n",
       "      <td>None</td>\n",
       "      <td>None</td>\n",
       "      <td>None</td>\n",
       "      <td>None</td>\n",
       "      <td>None</td>\n",
       "    </tr>\n",
       "  </tbody>\n",
       "</table>\n",
       "</div>"
      ],
      "text/plain": [
       "                tweet_id  in_reply_to_status_id  in_reply_to_user_id  \\\n",
       "2346  666058600524156928                    NaN                  NaN   \n",
       "2347  666057090499244032                    NaN                  NaN   \n",
       "2348  666055525042405380                    NaN                  NaN   \n",
       "2349  666051853826850816                    NaN                  NaN   \n",
       "2350  666050758794694657                    NaN                  NaN   \n",
       "2351  666049248165822465                    NaN                  NaN   \n",
       "2352  666044226329800704                    NaN                  NaN   \n",
       "2353  666033412701032449                    NaN                  NaN   \n",
       "2354  666029285002620928                    NaN                  NaN   \n",
       "2355  666020888022790149                    NaN                  NaN   \n",
       "\n",
       "                      timestamp  \\\n",
       "2346  2015-11-16 01:01:59 +0000   \n",
       "2347  2015-11-16 00:55:59 +0000   \n",
       "2348  2015-11-16 00:49:46 +0000   \n",
       "2349  2015-11-16 00:35:11 +0000   \n",
       "2350  2015-11-16 00:30:50 +0000   \n",
       "2351  2015-11-16 00:24:50 +0000   \n",
       "2352  2015-11-16 00:04:52 +0000   \n",
       "2353  2015-11-15 23:21:54 +0000   \n",
       "2354  2015-11-15 23:05:30 +0000   \n",
       "2355  2015-11-15 22:32:08 +0000   \n",
       "\n",
       "                                                 source  \\\n",
       "2346  <a href=\"http://twitter.com/download/iphone\" r...   \n",
       "2347  <a href=\"http://twitter.com/download/iphone\" r...   \n",
       "2348  <a href=\"http://twitter.com/download/iphone\" r...   \n",
       "2349  <a href=\"http://twitter.com/download/iphone\" r...   \n",
       "2350  <a href=\"http://twitter.com/download/iphone\" r...   \n",
       "2351  <a href=\"http://twitter.com/download/iphone\" r...   \n",
       "2352  <a href=\"http://twitter.com/download/iphone\" r...   \n",
       "2353  <a href=\"http://twitter.com/download/iphone\" r...   \n",
       "2354  <a href=\"http://twitter.com/download/iphone\" r...   \n",
       "2355  <a href=\"http://twitter.com/download/iphone\" r...   \n",
       "\n",
       "                                                   text  retweeted_status_id  \\\n",
       "2346  Here is the Rand Paul of retrievers folks! He'...                  NaN   \n",
       "2347  My oh my. This is a rare blond Canadian terrie...                  NaN   \n",
       "2348  Here is a Siberian heavily armored polar bear ...                  NaN   \n",
       "2349  This is an odd dog. Hard on the outside but lo...                  NaN   \n",
       "2350  This is a truly beautiful English Wilson Staff...                  NaN   \n",
       "2351  Here we have a 1949 1st generation vulpix. Enj...                  NaN   \n",
       "2352  This is a purebred Piers Morgan. Loves to Netf...                  NaN   \n",
       "2353  Here is a very happy pup. Big fan of well-main...                  NaN   \n",
       "2354  This is a western brown Mitsubishi terrier. Up...                  NaN   \n",
       "2355  Here we have a Japanese Irish Setter. Lost eye...                  NaN   \n",
       "\n",
       "      retweeted_status_user_id retweeted_status_timestamp  \\\n",
       "2346                       NaN                        NaN   \n",
       "2347                       NaN                        NaN   \n",
       "2348                       NaN                        NaN   \n",
       "2349                       NaN                        NaN   \n",
       "2350                       NaN                        NaN   \n",
       "2351                       NaN                        NaN   \n",
       "2352                       NaN                        NaN   \n",
       "2353                       NaN                        NaN   \n",
       "2354                       NaN                        NaN   \n",
       "2355                       NaN                        NaN   \n",
       "\n",
       "                                          expanded_urls  rating_numerator  \\\n",
       "2346  https://twitter.com/dog_rates/status/666058600...                 8   \n",
       "2347  https://twitter.com/dog_rates/status/666057090...                 9   \n",
       "2348  https://twitter.com/dog_rates/status/666055525...                10   \n",
       "2349  https://twitter.com/dog_rates/status/666051853...                 2   \n",
       "2350  https://twitter.com/dog_rates/status/666050758...                10   \n",
       "2351  https://twitter.com/dog_rates/status/666049248...                 5   \n",
       "2352  https://twitter.com/dog_rates/status/666044226...                 6   \n",
       "2353  https://twitter.com/dog_rates/status/666033412...                 9   \n",
       "2354  https://twitter.com/dog_rates/status/666029285...                 7   \n",
       "2355  https://twitter.com/dog_rates/status/666020888...                 8   \n",
       "\n",
       "      rating_denominator  name doggo floofer pupper puppo  \n",
       "2346                  10   the  None    None   None  None  \n",
       "2347                  10     a  None    None   None  None  \n",
       "2348                  10     a  None    None   None  None  \n",
       "2349                  10    an  None    None   None  None  \n",
       "2350                  10     a  None    None   None  None  \n",
       "2351                  10  None  None    None   None  None  \n",
       "2352                  10     a  None    None   None  None  \n",
       "2353                  10     a  None    None   None  None  \n",
       "2354                  10     a  None    None   None  None  \n",
       "2355                  10  None  None    None   None  None  "
      ]
     },
     "execution_count": 13,
     "metadata": {},
     "output_type": "execute_result"
    }
   ],
   "source": [
    "arch.tail(10)"
   ]
  },
  {
   "cell_type": "markdown",
   "metadata": {},
   "source": [
    "As we can see in the **name** column, there are invalid name inputs. Also, there are many colums that are not needed in the analysis.    \n",
    "Furtheremore, we can see that the last 4 columns refer to one variable \"dog stage\"."
   ]
  },
  {
   "cell_type": "code",
   "execution_count": 14,
   "metadata": {},
   "outputs": [
    {
     "data": {
      "text/html": [
       "<div>\n",
       "<style>\n",
       "    .dataframe thead tr:only-child th {\n",
       "        text-align: right;\n",
       "    }\n",
       "\n",
       "    .dataframe thead th {\n",
       "        text-align: left;\n",
       "    }\n",
       "\n",
       "    .dataframe tbody tr th {\n",
       "        vertical-align: top;\n",
       "    }\n",
       "</style>\n",
       "<table border=\"1\" class=\"dataframe\">\n",
       "  <thead>\n",
       "    <tr style=\"text-align: right;\">\n",
       "      <th></th>\n",
       "      <th>tweet_id</th>\n",
       "      <th>in_reply_to_status_id</th>\n",
       "      <th>in_reply_to_user_id</th>\n",
       "      <th>timestamp</th>\n",
       "      <th>source</th>\n",
       "      <th>text</th>\n",
       "      <th>retweeted_status_id</th>\n",
       "      <th>retweeted_status_user_id</th>\n",
       "      <th>retweeted_status_timestamp</th>\n",
       "      <th>expanded_urls</th>\n",
       "      <th>rating_numerator</th>\n",
       "      <th>rating_denominator</th>\n",
       "      <th>name</th>\n",
       "      <th>doggo</th>\n",
       "      <th>floofer</th>\n",
       "      <th>pupper</th>\n",
       "      <th>puppo</th>\n",
       "    </tr>\n",
       "  </thead>\n",
       "  <tbody>\n",
       "    <tr>\n",
       "      <th>32</th>\n",
       "      <td>886054160059072513</td>\n",
       "      <td>NaN</td>\n",
       "      <td>NaN</td>\n",
       "      <td>2017-07-15 02:45:48 +0000</td>\n",
       "      <td>&lt;a href=\"http://twitter.com/download/iphone\" r...</td>\n",
       "      <td>RT @Athletics: 12/10 #BATP https://t.co/WxwJmv...</td>\n",
       "      <td>8.860537e+17</td>\n",
       "      <td>1.960740e+07</td>\n",
       "      <td>2017-07-15 02:44:07 +0000</td>\n",
       "      <td>https://twitter.com/dog_rates/status/886053434...</td>\n",
       "      <td>12</td>\n",
       "      <td>10</td>\n",
       "      <td>None</td>\n",
       "      <td>None</td>\n",
       "      <td>None</td>\n",
       "      <td>None</td>\n",
       "      <td>None</td>\n",
       "    </tr>\n",
       "    <tr>\n",
       "      <th>33</th>\n",
       "      <td>885984800019947520</td>\n",
       "      <td>NaN</td>\n",
       "      <td>NaN</td>\n",
       "      <td>2017-07-14 22:10:11 +0000</td>\n",
       "      <td>&lt;a href=\"http://twitter.com/download/iphone\" r...</td>\n",
       "      <td>Viewer discretion advised. This is Jimbo. He w...</td>\n",
       "      <td>NaN</td>\n",
       "      <td>NaN</td>\n",
       "      <td>NaN</td>\n",
       "      <td>https://twitter.com/dog_rates/status/885984800...</td>\n",
       "      <td>12</td>\n",
       "      <td>10</td>\n",
       "      <td>Jimbo</td>\n",
       "      <td>None</td>\n",
       "      <td>None</td>\n",
       "      <td>None</td>\n",
       "      <td>None</td>\n",
       "    </tr>\n",
       "    <tr>\n",
       "      <th>34</th>\n",
       "      <td>885528943205470208</td>\n",
       "      <td>NaN</td>\n",
       "      <td>NaN</td>\n",
       "      <td>2017-07-13 15:58:47 +0000</td>\n",
       "      <td>&lt;a href=\"http://twitter.com/download/iphone\" r...</td>\n",
       "      <td>This is Maisey. She fell asleep mid-excavation...</td>\n",
       "      <td>NaN</td>\n",
       "      <td>NaN</td>\n",
       "      <td>NaN</td>\n",
       "      <td>https://twitter.com/dog_rates/status/885528943...</td>\n",
       "      <td>13</td>\n",
       "      <td>10</td>\n",
       "      <td>Maisey</td>\n",
       "      <td>None</td>\n",
       "      <td>None</td>\n",
       "      <td>None</td>\n",
       "      <td>None</td>\n",
       "    </tr>\n",
       "    <tr>\n",
       "      <th>35</th>\n",
       "      <td>885518971528720385</td>\n",
       "      <td>NaN</td>\n",
       "      <td>NaN</td>\n",
       "      <td>2017-07-13 15:19:09 +0000</td>\n",
       "      <td>&lt;a href=\"http://twitter.com/download/iphone\" r...</td>\n",
       "      <td>I have a new hero and his name is Howard. 14/1...</td>\n",
       "      <td>NaN</td>\n",
       "      <td>NaN</td>\n",
       "      <td>NaN</td>\n",
       "      <td>https://twitter.com/4bonds2carbon/status/88551...</td>\n",
       "      <td>14</td>\n",
       "      <td>10</td>\n",
       "      <td>None</td>\n",
       "      <td>None</td>\n",
       "      <td>None</td>\n",
       "      <td>None</td>\n",
       "      <td>None</td>\n",
       "    </tr>\n",
       "    <tr>\n",
       "      <th>36</th>\n",
       "      <td>885311592912609280</td>\n",
       "      <td>NaN</td>\n",
       "      <td>NaN</td>\n",
       "      <td>2017-07-13 01:35:06 +0000</td>\n",
       "      <td>&lt;a href=\"http://twitter.com/download/iphone\" r...</td>\n",
       "      <td>RT @dog_rates: This is Lilly. She just paralle...</td>\n",
       "      <td>8.305833e+17</td>\n",
       "      <td>4.196984e+09</td>\n",
       "      <td>2017-02-12 01:04:29 +0000</td>\n",
       "      <td>https://twitter.com/dog_rates/status/830583320...</td>\n",
       "      <td>13</td>\n",
       "      <td>10</td>\n",
       "      <td>Lilly</td>\n",
       "      <td>None</td>\n",
       "      <td>None</td>\n",
       "      <td>None</td>\n",
       "      <td>None</td>\n",
       "    </tr>\n",
       "  </tbody>\n",
       "</table>\n",
       "</div>"
      ],
      "text/plain": [
       "              tweet_id  in_reply_to_status_id  in_reply_to_user_id  \\\n",
       "32  886054160059072513                    NaN                  NaN   \n",
       "33  885984800019947520                    NaN                  NaN   \n",
       "34  885528943205470208                    NaN                  NaN   \n",
       "35  885518971528720385                    NaN                  NaN   \n",
       "36  885311592912609280                    NaN                  NaN   \n",
       "\n",
       "                    timestamp  \\\n",
       "32  2017-07-15 02:45:48 +0000   \n",
       "33  2017-07-14 22:10:11 +0000   \n",
       "34  2017-07-13 15:58:47 +0000   \n",
       "35  2017-07-13 15:19:09 +0000   \n",
       "36  2017-07-13 01:35:06 +0000   \n",
       "\n",
       "                                               source  \\\n",
       "32  <a href=\"http://twitter.com/download/iphone\" r...   \n",
       "33  <a href=\"http://twitter.com/download/iphone\" r...   \n",
       "34  <a href=\"http://twitter.com/download/iphone\" r...   \n",
       "35  <a href=\"http://twitter.com/download/iphone\" r...   \n",
       "36  <a href=\"http://twitter.com/download/iphone\" r...   \n",
       "\n",
       "                                                 text  retweeted_status_id  \\\n",
       "32  RT @Athletics: 12/10 #BATP https://t.co/WxwJmv...         8.860537e+17   \n",
       "33  Viewer discretion advised. This is Jimbo. He w...                  NaN   \n",
       "34  This is Maisey. She fell asleep mid-excavation...                  NaN   \n",
       "35  I have a new hero and his name is Howard. 14/1...                  NaN   \n",
       "36  RT @dog_rates: This is Lilly. She just paralle...         8.305833e+17   \n",
       "\n",
       "    retweeted_status_user_id retweeted_status_timestamp  \\\n",
       "32              1.960740e+07  2017-07-15 02:44:07 +0000   \n",
       "33                       NaN                        NaN   \n",
       "34                       NaN                        NaN   \n",
       "35                       NaN                        NaN   \n",
       "36              4.196984e+09  2017-02-12 01:04:29 +0000   \n",
       "\n",
       "                                        expanded_urls  rating_numerator  \\\n",
       "32  https://twitter.com/dog_rates/status/886053434...                12   \n",
       "33  https://twitter.com/dog_rates/status/885984800...                12   \n",
       "34  https://twitter.com/dog_rates/status/885528943...                13   \n",
       "35  https://twitter.com/4bonds2carbon/status/88551...                14   \n",
       "36  https://twitter.com/dog_rates/status/830583320...                13   \n",
       "\n",
       "    rating_denominator    name doggo floofer pupper puppo  \n",
       "32                  10    None  None    None   None  None  \n",
       "33                  10   Jimbo  None    None   None  None  \n",
       "34                  10  Maisey  None    None   None  None  \n",
       "35                  10    None  None    None   None  None  \n",
       "36                  10   Lilly  None    None   None  None  "
      ]
     },
     "execution_count": 14,
     "metadata": {},
     "output_type": "execute_result"
    }
   ],
   "source": [
    "arch[32:37]"
   ]
  },
  {
   "cell_type": "markdown",
   "metadata": {},
   "source": [
    "There are records that have values in **'retweeted_status_user_id'** column other than NaN. Which means that this dataset has tweets that are not original. The repeated tweets will affect the analysis making it not accurate. These retweets have to be removed from the dataset. "
   ]
  },
  {
   "cell_type": "code",
   "execution_count": 15,
   "metadata": {},
   "outputs": [
    {
     "name": "stdout",
     "output_type": "stream",
     "text": [
      "duplicates records in arch: 0\n",
      "duplicates of jpg_url in img: 66\n",
      "duplicates records in img: 0\n",
      "duplicates records in tweet_df: 0\n"
     ]
    }
   ],
   "source": [
    "# check for duplicates\n",
    "print(\"duplicates records in arch: {}\".format(arch.duplicated().sum()))\n",
    "print(\"duplicates of jpg_url in img: {}\".format(img.jpg_url.duplicated().sum())) # repeated images\n",
    "print(\"duplicates records in img: {}\".format(img.duplicated().sum()))\n",
    "print(\"duplicates records in tweet_df: {}\".format(tweet_df.duplicated().sum()))"
   ]
  },
  {
   "cell_type": "markdown",
   "metadata": {},
   "source": [
    "There are 66 duplicated of image url. We don't want repeated images, so these duplicates need to be dropped"
   ]
  },
  {
   "cell_type": "markdown",
   "metadata": {},
   "source": [
    "> **Let's sum up all the issues found in the data assessment phase in points below:**"
   ]
  },
  {
   "cell_type": "markdown",
   "metadata": {},
   "source": [
    "<a id='q'></a>\n",
    "### <font color='darkgreen'>Quality Issues</font>\n"
   ]
  },
  {
   "cell_type": "markdown",
   "metadata": {},
   "source": [
    "Quality issues are related with the data's content. Such as the completeness of the data, consistency, duplicates and so on. In this project, there are some quality issues that has to be handled.    \n",
    "    \n",
    "1. Remove retweeted tweets (only keep original ratings)\n",
    "2. Delete columns that are not needed\n",
    "3. Convert **timestamp** type to datetime instead of object\n",
    "4. **source** column is difficult to read\n",
    "5. Remove any duplicates\n",
    "6. There are four different columns (**doggo**, **floofer**, **pupper**, and **puppo**) that refers to one variable **\"dog_stage\"**\n",
    "7. Invalid names inputs in **Name** column (change it to 'None')\n",
    "8. Remove the \" _ \" between words from the **images** dataset (to make it more readable)"
   ]
  },
  {
   "cell_type": "markdown",
   "metadata": {},
   "source": [
    "<a id='t'></a>\n",
    "### <font color='darkgreen'>Tidiness Issues</font>"
   ]
  },
  {
   "cell_type": "markdown",
   "metadata": {},
   "source": [
    "Tidiness issues are the issues related to the structure of the data, there are two main things:   \n",
    "    \n",
    "1. Make **tweet_id** match in all tables to have it as primary key (to be able to combine the datasets)\n",
    "2. Merge all datasets into one"
   ]
  },
  {
   "cell_type": "markdown",
   "metadata": {},
   "source": [
    "<a id='clean'></a>\n",
    "## <font color='darkblue'>Clean Data</font>"
   ]
  },
  {
   "cell_type": "markdown",
   "metadata": {},
   "source": [
    "First, I will create copies of the dataframes so I can clean it and merge them into one to have a clean combined dataset."
   ]
  },
  {
   "cell_type": "code",
   "execution_count": 16,
   "metadata": {},
   "outputs": [],
   "source": [
    "# create copies of datasets to seperate the clean ones\n",
    "\n",
    "clean_arch = arch.copy()\n",
    "clean_img = img.copy()\n",
    "clean_tweet_df = tweet_df.copy()"
   ]
  },
  {
   "cell_type": "markdown",
   "metadata": {},
   "source": [
    "Now, I will go over the points in the **\"Assessing Data\"** section, fix all the required changes one by one."
   ]
  },
  {
   "cell_type": "markdown",
   "metadata": {},
   "source": [
    "##### <font color='purple'>1.</font> Define\n",
    "The first issue that we have to keep in mind, is that the dataset contains all tweets including retweets. To have an accurate analysis, we need to remove the retweets from the dataset to remain with only original tweets (no repetition)."
   ]
  },
  {
   "cell_type": "markdown",
   "metadata": {},
   "source": [
    "##### Code"
   ]
  },
  {
   "cell_type": "code",
   "execution_count": 17,
   "metadata": {
    "scrolled": true
   },
   "outputs": [],
   "source": [
    "# 1. Remove retweets\n",
    "clean_arch = clean_arch[pd.isnull(clean_arch.retweeted_status_id)]"
   ]
  },
  {
   "cell_type": "markdown",
   "metadata": {},
   "source": [
    "##### Test"
   ]
  },
  {
   "cell_type": "code",
   "execution_count": 18,
   "metadata": {},
   "outputs": [
    {
     "name": "stdout",
     "output_type": "stream",
     "text": [
      "Number of retweets removed: 181\n"
     ]
    }
   ],
   "source": [
    "# check that all retweets were removed\n",
    "print(\"Number of retweets removed: {}\".format(len(arch)-len(clean_arch)))"
   ]
  },
  {
   "cell_type": "code",
   "execution_count": 19,
   "metadata": {},
   "outputs": [
    {
     "data": {
      "text/plain": [
       "['tweet_id',\n",
       " 'in_reply_to_status_id',\n",
       " 'in_reply_to_user_id',\n",
       " 'timestamp',\n",
       " 'source',\n",
       " 'text',\n",
       " 'retweeted_status_id',\n",
       " 'retweeted_status_user_id',\n",
       " 'retweeted_status_timestamp',\n",
       " 'expanded_urls',\n",
       " 'rating_numerator',\n",
       " 'rating_denominator',\n",
       " 'name',\n",
       " 'doggo',\n",
       " 'floofer',\n",
       " 'pupper',\n",
       " 'puppo']"
      ]
     },
     "execution_count": 19,
     "metadata": {},
     "output_type": "execute_result"
    }
   ],
   "source": [
    "list(clean_arch)"
   ]
  },
  {
   "cell_type": "markdown",
   "metadata": {},
   "source": [
    "##### <font color='purple'>2.</font> Define\n",
    "There are columns that are not needed in the analysis, these columns will be dropped."
   ]
  },
  {
   "cell_type": "markdown",
   "metadata": {},
   "source": [
    "##### Code"
   ]
  },
  {
   "cell_type": "code",
   "execution_count": 20,
   "metadata": {},
   "outputs": [],
   "source": [
    "# 2. Delete columns that are not needed anymore\n",
    "\n",
    "clean_arch = clean_arch.drop(['in_reply_to_status_id',\n",
    "                              'in_reply_to_user_id',\n",
    "                              'retweeted_status_id',\n",
    "                              'retweeted_status_user_id',\n",
    "                              'retweeted_status_timestamp',\n",
    "                              'expanded_urls'], 1)"
   ]
  },
  {
   "cell_type": "markdown",
   "metadata": {},
   "source": [
    "##### Test"
   ]
  },
  {
   "cell_type": "code",
   "execution_count": 21,
   "metadata": {},
   "outputs": [
    {
     "data": {
      "text/plain": [
       "['tweet_id',\n",
       " 'timestamp',\n",
       " 'source',\n",
       " 'text',\n",
       " 'rating_numerator',\n",
       " 'rating_denominator',\n",
       " 'name',\n",
       " 'doggo',\n",
       " 'floofer',\n",
       " 'pupper',\n",
       " 'puppo']"
      ]
     },
     "execution_count": 21,
     "metadata": {},
     "output_type": "execute_result"
    }
   ],
   "source": [
    "# print columns\n",
    "list(clean_arch)"
   ]
  },
  {
   "cell_type": "markdown",
   "metadata": {},
   "source": [
    "##### <font color='purple'>3.</font> Define\n",
    "In the analysis, i will use the date to get some insights on how ratings change over time. To do that I need to convert the timestamp to datetime type to be able to extract the date later."
   ]
  },
  {
   "cell_type": "markdown",
   "metadata": {},
   "source": [
    "##### Code"
   ]
  },
  {
   "cell_type": "code",
   "execution_count": 22,
   "metadata": {},
   "outputs": [],
   "source": [
    "# 3. Change timestamp type into datetime\n",
    "\n",
    "from datetime import datetime,timedelta\n",
    "\n",
    "clean_arch['timestamp'] = pd.to_datetime(clean_arch['timestamp'])"
   ]
  },
  {
   "cell_type": "markdown",
   "metadata": {},
   "source": [
    "##### Test"
   ]
  },
  {
   "cell_type": "code",
   "execution_count": 23,
   "metadata": {},
   "outputs": [
    {
     "name": "stdout",
     "output_type": "stream",
     "text": [
      "<class 'pandas.core.frame.DataFrame'>\n",
      "Int64Index: 2175 entries, 0 to 2355\n",
      "Data columns (total 11 columns):\n",
      "tweet_id              2175 non-null int64\n",
      "timestamp             2175 non-null datetime64[ns]\n",
      "source                2175 non-null object\n",
      "text                  2175 non-null object\n",
      "rating_numerator      2175 non-null int64\n",
      "rating_denominator    2175 non-null int64\n",
      "name                  2175 non-null object\n",
      "doggo                 2175 non-null object\n",
      "floofer               2175 non-null object\n",
      "pupper                2175 non-null object\n",
      "puppo                 2175 non-null object\n",
      "dtypes: datetime64[ns](1), int64(3), object(7)\n",
      "memory usage: 203.9+ KB\n"
     ]
    }
   ],
   "source": [
    "clean_arch.info()"
   ]
  },
  {
   "cell_type": "markdown",
   "metadata": {},
   "source": [
    "##### <font color='purple'>4.</font> Define\n",
    "The **source** column in the twitter archive dataset is difficult to read, I will extract the 'href' only"
   ]
  },
  {
   "cell_type": "markdown",
   "metadata": {},
   "source": [
    "##### Code"
   ]
  },
  {
   "cell_type": "code",
   "execution_count": 24,
   "metadata": {},
   "outputs": [
    {
     "data": {
      "text/plain": [
       "'<a href=\"http://twitter.com/download/iphone\" rel=\"nofollow\">Twitter for iPhone</a>'"
      ]
     },
     "execution_count": 24,
     "metadata": {},
     "output_type": "execute_result"
    }
   ],
   "source": [
    "clean_arch['source'][0]"
   ]
  },
  {
   "cell_type": "code",
   "execution_count": 25,
   "metadata": {},
   "outputs": [],
   "source": [
    "clean_arch['source'] = clean_arch['source'].str.replace('<a href=\"', '').str.replace('\" rel=', '').str.replace('</a>', '').str.replace('>', '')\n",
    "clean_arch['source'] = clean_arch['source'].str.split('\"')\n"
   ]
  },
  {
   "cell_type": "code",
   "execution_count": 26,
   "metadata": {},
   "outputs": [],
   "source": [
    "href = []\n",
    "for i in clean_arch['source']:     \n",
    "    href.append(i[0])\n"
   ]
  },
  {
   "cell_type": "code",
   "execution_count": 27,
   "metadata": {},
   "outputs": [],
   "source": [
    "clean_arch['source'] = href"
   ]
  },
  {
   "cell_type": "markdown",
   "metadata": {},
   "source": [
    "##### Test"
   ]
  },
  {
   "cell_type": "code",
   "execution_count": 28,
   "metadata": {},
   "outputs": [
    {
     "data": {
      "text/plain": [
       "'http://twitter.com/download/iphone'"
      ]
     },
     "execution_count": 28,
     "metadata": {},
     "output_type": "execute_result"
    }
   ],
   "source": [
    "clean_arch['source'][0]"
   ]
  },
  {
   "cell_type": "markdown",
   "metadata": {},
   "source": [
    "##### <font color='purple'>5.</font> Define\n",
    "Check if the data consists of any duplicates, and remove them if they exist."
   ]
  },
  {
   "cell_type": "markdown",
   "metadata": {},
   "source": [
    "##### Code"
   ]
  },
  {
   "cell_type": "code",
   "execution_count": 29,
   "metadata": {},
   "outputs": [
    {
     "name": "stdout",
     "output_type": "stream",
     "text": [
      "sum of jpg_url duplicates: 66\n"
     ]
    },
    {
     "data": {
      "text/plain": [
       "(2075, 12)"
      ]
     },
     "execution_count": 29,
     "metadata": {},
     "output_type": "execute_result"
    }
   ],
   "source": [
    "print(\"sum of jpg_url duplicates: {}\".format(clean_img.jpg_url.duplicated().sum()))\n",
    "clean_img.shape"
   ]
  },
  {
   "cell_type": "code",
   "execution_count": 30,
   "metadata": {},
   "outputs": [],
   "source": [
    "# 5. drop duplicates\n",
    "clean_img = clean_img.drop_duplicates(subset=['jpg_url'], keep='last')"
   ]
  },
  {
   "cell_type": "markdown",
   "metadata": {},
   "source": [
    "##### Test"
   ]
  },
  {
   "cell_type": "code",
   "execution_count": 31,
   "metadata": {},
   "outputs": [
    {
     "name": "stdout",
     "output_type": "stream",
     "text": [
      "sum of jpg_url duplicates: 0\n"
     ]
    },
    {
     "data": {
      "text/plain": [
       "(2009, 12)"
      ]
     },
     "execution_count": 31,
     "metadata": {},
     "output_type": "execute_result"
    }
   ],
   "source": [
    "print(\"sum of jpg_url duplicates: {}\".format(clean_img.jpg_url.duplicated().sum()))\n",
    "clean_img.shape"
   ]
  },
  {
   "cell_type": "markdown",
   "metadata": {},
   "source": [
    "##### <font color='purple'>6.</font> Define\n",
    "There are four columns (**doggo**, **floofer**, **pupper**, and **puppo**) that should be melt into one column called **dog_stage**. It does not make sense to have many columns for one variable.\n",
    "#####  Code"
   ]
  },
  {
   "cell_type": "code",
   "execution_count": 32,
   "metadata": {},
   "outputs": [
    {
     "data": {
      "text/html": [
       "<div>\n",
       "<style>\n",
       "    .dataframe thead tr:only-child th {\n",
       "        text-align: right;\n",
       "    }\n",
       "\n",
       "    .dataframe thead th {\n",
       "        text-align: left;\n",
       "    }\n",
       "\n",
       "    .dataframe tbody tr th {\n",
       "        vertical-align: top;\n",
       "    }\n",
       "</style>\n",
       "<table border=\"1\" class=\"dataframe\">\n",
       "  <thead>\n",
       "    <tr style=\"text-align: right;\">\n",
       "      <th></th>\n",
       "      <th>doggo</th>\n",
       "      <th>floofer</th>\n",
       "      <th>pupper</th>\n",
       "      <th>puppo</th>\n",
       "    </tr>\n",
       "  </thead>\n",
       "  <tbody>\n",
       "    <tr>\n",
       "      <th>43</th>\n",
       "      <td>doggo</td>\n",
       "      <td>None</td>\n",
       "      <td>None</td>\n",
       "      <td>None</td>\n",
       "    </tr>\n",
       "    <tr>\n",
       "      <th>44</th>\n",
       "      <td>None</td>\n",
       "      <td>None</td>\n",
       "      <td>None</td>\n",
       "      <td>None</td>\n",
       "    </tr>\n",
       "    <tr>\n",
       "      <th>45</th>\n",
       "      <td>None</td>\n",
       "      <td>None</td>\n",
       "      <td>None</td>\n",
       "      <td>None</td>\n",
       "    </tr>\n",
       "    <tr>\n",
       "      <th>46</th>\n",
       "      <td>None</td>\n",
       "      <td>floofer</td>\n",
       "      <td>None</td>\n",
       "      <td>None</td>\n",
       "    </tr>\n",
       "    <tr>\n",
       "      <th>47</th>\n",
       "      <td>None</td>\n",
       "      <td>None</td>\n",
       "      <td>None</td>\n",
       "      <td>None</td>\n",
       "    </tr>\n",
       "    <tr>\n",
       "      <th>48</th>\n",
       "      <td>None</td>\n",
       "      <td>None</td>\n",
       "      <td>None</td>\n",
       "      <td>None</td>\n",
       "    </tr>\n",
       "    <tr>\n",
       "      <th>49</th>\n",
       "      <td>None</td>\n",
       "      <td>None</td>\n",
       "      <td>pupper</td>\n",
       "      <td>None</td>\n",
       "    </tr>\n",
       "    <tr>\n",
       "      <th>50</th>\n",
       "      <td>None</td>\n",
       "      <td>None</td>\n",
       "      <td>None</td>\n",
       "      <td>None</td>\n",
       "    </tr>\n",
       "    <tr>\n",
       "      <th>51</th>\n",
       "      <td>None</td>\n",
       "      <td>None</td>\n",
       "      <td>None</td>\n",
       "      <td>None</td>\n",
       "    </tr>\n",
       "  </tbody>\n",
       "</table>\n",
       "</div>"
      ],
      "text/plain": [
       "    doggo  floofer  pupper puppo\n",
       "43  doggo     None    None  None\n",
       "44   None     None    None  None\n",
       "45   None     None    None  None\n",
       "46   None  floofer    None  None\n",
       "47   None     None    None  None\n",
       "48   None     None    None  None\n",
       "49   None     None  pupper  None\n",
       "50   None     None    None  None\n",
       "51   None     None    None  None"
      ]
     },
     "execution_count": 32,
     "metadata": {},
     "output_type": "execute_result"
    }
   ],
   "source": [
    "clean_arch.iloc[40:49, 7:]"
   ]
  },
  {
   "cell_type": "code",
   "execution_count": 33,
   "metadata": {},
   "outputs": [
    {
     "data": {
      "text/plain": [
       "0     NoneNoneNoneNone\n",
       "1     NoneNoneNoneNone\n",
       "2     NoneNoneNoneNone\n",
       "3     NoneNoneNoneNone\n",
       "4     NoneNoneNoneNone\n",
       "5     NoneNoneNoneNone\n",
       "6     NoneNoneNoneNone\n",
       "7     NoneNoneNoneNone\n",
       "8     NoneNoneNoneNone\n",
       "9    doggoNoneNoneNone\n",
       "Name: dog_stage, dtype: object"
      ]
     },
     "execution_count": 33,
     "metadata": {},
     "output_type": "execute_result"
    }
   ],
   "source": [
    "clean_arch['dog_stage'] = clean_arch['doggo'] + clean_arch['floofer'] + clean_arch['pupper'] + clean_arch['puppo']\n",
    "clean_arch['dog_stage'][:10]"
   ]
  },
  {
   "cell_type": "code",
   "execution_count": 34,
   "metadata": {},
   "outputs": [],
   "source": [
    "clean_arch['dog_stage'].replace(\"NoneNoneNoneNone\",\"None \", inplace=True)\n",
    "clean_arch['dog_stage'].replace(\"doggoNoneNoneNone\",\"doggo\", inplace=True)\n",
    "clean_arch['dog_stage'].replace(\"NoneflooferNoneNone\",\"floofer\", inplace=True)\n",
    "clean_arch['dog_stage'].replace(\"NoneNonepupperNone\",\"pupper\", inplace=True)\n",
    "clean_arch['dog_stage'].replace(\"NoneNoneNonepuppo\",\"puppo\", inplace=True)"
   ]
  },
  {
   "cell_type": "code",
   "execution_count": 35,
   "metadata": {},
   "outputs": [],
   "source": [
    "clean_arch = clean_arch.drop(['doggo', 'floofer', 'pupper', 'puppo'], axis=1)"
   ]
  },
  {
   "cell_type": "markdown",
   "metadata": {},
   "source": [
    "##### Test"
   ]
  },
  {
   "cell_type": "code",
   "execution_count": 36,
   "metadata": {},
   "outputs": [
    {
     "data": {
      "text/html": [
       "<div>\n",
       "<style>\n",
       "    .dataframe thead tr:only-child th {\n",
       "        text-align: right;\n",
       "    }\n",
       "\n",
       "    .dataframe thead th {\n",
       "        text-align: left;\n",
       "    }\n",
       "\n",
       "    .dataframe tbody tr th {\n",
       "        vertical-align: top;\n",
       "    }\n",
       "</style>\n",
       "<table border=\"1\" class=\"dataframe\">\n",
       "  <thead>\n",
       "    <tr style=\"text-align: right;\">\n",
       "      <th></th>\n",
       "      <th>dog_stage</th>\n",
       "    </tr>\n",
       "  </thead>\n",
       "  <tbody>\n",
       "    <tr>\n",
       "      <th>43</th>\n",
       "      <td>doggo</td>\n",
       "    </tr>\n",
       "    <tr>\n",
       "      <th>44</th>\n",
       "      <td>None</td>\n",
       "    </tr>\n",
       "    <tr>\n",
       "      <th>45</th>\n",
       "      <td>None</td>\n",
       "    </tr>\n",
       "    <tr>\n",
       "      <th>46</th>\n",
       "      <td>floofer</td>\n",
       "    </tr>\n",
       "    <tr>\n",
       "      <th>47</th>\n",
       "      <td>None</td>\n",
       "    </tr>\n",
       "    <tr>\n",
       "      <th>48</th>\n",
       "      <td>None</td>\n",
       "    </tr>\n",
       "    <tr>\n",
       "      <th>49</th>\n",
       "      <td>pupper</td>\n",
       "    </tr>\n",
       "    <tr>\n",
       "      <th>50</th>\n",
       "      <td>None</td>\n",
       "    </tr>\n",
       "    <tr>\n",
       "      <th>51</th>\n",
       "      <td>None</td>\n",
       "    </tr>\n",
       "  </tbody>\n",
       "</table>\n",
       "</div>"
      ],
      "text/plain": [
       "   dog_stage\n",
       "43     doggo\n",
       "44     None \n",
       "45     None \n",
       "46   floofer\n",
       "47     None \n",
       "48     None \n",
       "49    pupper\n",
       "50     None \n",
       "51     None "
      ]
     },
     "execution_count": 36,
     "metadata": {},
     "output_type": "execute_result"
    }
   ],
   "source": [
    "clean_arch.iloc[40:49, 7:]"
   ]
  },
  {
   "cell_type": "markdown",
   "metadata": {},
   "source": [
    "##### <font color='purple'>7.</font> Define\n",
    "There are invalid names in the dataset, these names should be replaced to **None**.\n",
    "##### Code"
   ]
  },
  {
   "cell_type": "code",
   "execution_count": 37,
   "metadata": {},
   "outputs": [
    {
     "name": "stdout",
     "output_type": "stream",
     "text": [
      "25\n",
      "['such', 'one', 'actually', 'light', 'the', 'space', 'very', 'quite', 'an', 'his', 'mad', 'old', 'getting', 'life', 'all', 'not', 'a', 'this', 'officially', 'infuriating', 'unacceptable', 'incredibly', 'just', 'my', 'by']\n"
     ]
    }
   ],
   "source": [
    "# 7. Fix invalid names in Name column \n",
    "\n",
    "# all names start with a capital letter, find the ones that don't:\n",
    "invalid_name = []\n",
    "for name in clean_arch['name']:\n",
    "    if name.islower():\n",
    "        invalid_name.append(name)\n",
    "\n",
    "# list of invalid name inputs\n",
    "invalid_name = list(set(invalid_name))\n",
    "print(len(invalid_name))\n",
    "print(invalid_name)"
   ]
  },
  {
   "cell_type": "code",
   "execution_count": 38,
   "metadata": {},
   "outputs": [],
   "source": [
    "# Change invalid name inputs to 'None'\n",
    "\n",
    "for name in clean_arch['name']:\n",
    "    if name in invalid_name:\n",
    "        clean_arch['name'].replace(name, 'None', inplace=True)"
   ]
  },
  {
   "cell_type": "markdown",
   "metadata": {},
   "source": [
    "##### Test"
   ]
  },
  {
   "cell_type": "code",
   "execution_count": 39,
   "metadata": {},
   "outputs": [],
   "source": [
    "# check\n",
    "for name in clean_arch['name']:\n",
    "    if name.islower():\n",
    "        print(name)"
   ]
  },
  {
   "cell_type": "markdown",
   "metadata": {},
   "source": [
    "##### <font color='purple'>8.</font> Define\n",
    "To make the dog types more readable, I will remove the '_' betweet the words.\n",
    "##### Code"
   ]
  },
  {
   "cell_type": "code",
   "execution_count": 40,
   "metadata": {},
   "outputs": [],
   "source": [
    "# 8. Remove the \" _ \" between words from the images dataset\n",
    "\n",
    "clean_img['p1'] = clean_img['p1'].str.replace('_', ' ')\n",
    "clean_img['p2'] = clean_img['p2'].str.replace('_', ' ')\n",
    "clean_img['p3'] = clean_img['p3'].str.replace('_', ' ')"
   ]
  },
  {
   "cell_type": "markdown",
   "metadata": {},
   "source": [
    "##### Test"
   ]
  },
  {
   "cell_type": "code",
   "execution_count": 41,
   "metadata": {},
   "outputs": [
    {
     "data": {
      "text/plain": [
       "0    Welsh springer spaniel\n",
       "1                   redbone\n",
       "2           German shepherd\n",
       "Name: p1, dtype: object"
      ]
     },
     "execution_count": 41,
     "metadata": {},
     "output_type": "execute_result"
    }
   ],
   "source": [
    "# check\n",
    "clean_img.p1[:3]"
   ]
  },
  {
   "cell_type": "code",
   "execution_count": 42,
   "metadata": {},
   "outputs": [
    {
     "data": {
      "text/plain": [
       "0                collie\n",
       "1    miniature pinscher\n",
       "2              malinois\n",
       "Name: p2, dtype: object"
      ]
     },
     "execution_count": 42,
     "metadata": {},
     "output_type": "execute_result"
    }
   ],
   "source": [
    "clean_img.p2[:3]"
   ]
  },
  {
   "cell_type": "code",
   "execution_count": 43,
   "metadata": {},
   "outputs": [
    {
     "data": {
      "text/plain": [
       "0      Shetland sheepdog\n",
       "1    Rhodesian ridgeback\n",
       "2             bloodhound\n",
       "Name: p3, dtype: object"
      ]
     },
     "execution_count": 43,
     "metadata": {},
     "output_type": "execute_result"
    }
   ],
   "source": [
    "clean_img.p3[:3]"
   ]
  },
  {
   "cell_type": "markdown",
   "metadata": {},
   "source": [
    "##### <font color='purple'>9.</font> Define\n",
    "To be able to merge all three darasets, the primary keys must match. To do that, the **id**s have to have the same name and type.\n",
    "##### Code"
   ]
  },
  {
   "cell_type": "code",
   "execution_count": 44,
   "metadata": {},
   "outputs": [],
   "source": [
    "# 9. Match primary keys\n",
    "\n",
    "clean_arch['tweet_id'] = clean_arch['tweet_id'].astype(str)\n",
    "clean_img['tweet_id'] = clean_img['tweet_id'].astype(str)\n",
    "\n",
    "\n",
    "clean_tweet_df.rename(columns={'id':'tweet_id'}, inplace=True)"
   ]
  },
  {
   "cell_type": "markdown",
   "metadata": {},
   "source": [
    "##### Test"
   ]
  },
  {
   "cell_type": "code",
   "execution_count": 45,
   "metadata": {},
   "outputs": [
    {
     "name": "stdout",
     "output_type": "stream",
     "text": [
      "<class 'pandas.core.frame.DataFrame'>\n",
      "Int64Index: 2175 entries, 0 to 2355\n",
      "Data columns (total 8 columns):\n",
      "tweet_id              2175 non-null object\n",
      "timestamp             2175 non-null datetime64[ns]\n",
      "source                2175 non-null object\n",
      "text                  2175 non-null object\n",
      "rating_numerator      2175 non-null int64\n",
      "rating_denominator    2175 non-null int64\n",
      "name                  2175 non-null object\n",
      "dog_stage             2175 non-null object\n",
      "dtypes: datetime64[ns](1), int64(2), object(5)\n",
      "memory usage: 232.9+ KB\n"
     ]
    }
   ],
   "source": [
    "clean_arch.info()"
   ]
  },
  {
   "cell_type": "code",
   "execution_count": 46,
   "metadata": {},
   "outputs": [
    {
     "name": "stdout",
     "output_type": "stream",
     "text": [
      "<class 'pandas.core.frame.DataFrame'>\n",
      "Int64Index: 2009 entries, 0 to 2074\n",
      "Data columns (total 12 columns):\n",
      "tweet_id    2009 non-null object\n",
      "jpg_url     2009 non-null object\n",
      "img_num     2009 non-null int64\n",
      "p1          2009 non-null object\n",
      "p1_conf     2009 non-null float64\n",
      "p1_dog      2009 non-null bool\n",
      "p2          2009 non-null object\n",
      "p2_conf     2009 non-null float64\n",
      "p2_dog      2009 non-null bool\n",
      "p3          2009 non-null object\n",
      "p3_conf     2009 non-null float64\n",
      "p3_dog      2009 non-null bool\n",
      "dtypes: bool(3), float64(3), int64(1), object(5)\n",
      "memory usage: 162.8+ KB\n"
     ]
    }
   ],
   "source": [
    "clean_img.info()"
   ]
  },
  {
   "cell_type": "code",
   "execution_count": 47,
   "metadata": {},
   "outputs": [
    {
     "name": "stdout",
     "output_type": "stream",
     "text": [
      "<class 'pandas.core.frame.DataFrame'>\n",
      "RangeIndex: 2354 entries, 0 to 2353\n",
      "Data columns (total 5 columns):\n",
      "tweet_id            2354 non-null object\n",
      "favorites           2354 non-null int64\n",
      "retweets            2354 non-null int64\n",
      "followers           2354 non-null int64\n",
      "retweeted_status    2354 non-null object\n",
      "dtypes: int64(3), object(2)\n",
      "memory usage: 92.0+ KB\n"
     ]
    }
   ],
   "source": [
    "clean_tweet_df.info()"
   ]
  },
  {
   "cell_type": "markdown",
   "metadata": {},
   "source": [
    "##### <font color='purple'>10.</font> Define\n",
    "To perform analysis using all three tables, the datasets have to be merged into one.\n",
    "##### Code"
   ]
  },
  {
   "cell_type": "code",
   "execution_count": 48,
   "metadata": {},
   "outputs": [],
   "source": [
    "# 10. Merge datasets\n",
    "\n",
    "# combine clean_arch with clean_img\n",
    "df1 = pd.merge(clean_arch, clean_img, how = 'left', on = ['tweet_id'])\n",
    "\n",
    "# combine df1 with clean_tweet_df\n",
    "df = pd.merge(df1, clean_tweet_df, how = 'left', on = ['tweet_id'])"
   ]
  },
  {
   "cell_type": "markdown",
   "metadata": {},
   "source": [
    "##### Test"
   ]
  },
  {
   "cell_type": "code",
   "execution_count": 49,
   "metadata": {},
   "outputs": [
    {
     "name": "stdout",
     "output_type": "stream",
     "text": [
      "<class 'pandas.core.frame.DataFrame'>\n",
      "Int64Index: 2175 entries, 0 to 2174\n",
      "Data columns (total 23 columns):\n",
      "tweet_id              2175 non-null object\n",
      "timestamp             2175 non-null datetime64[ns]\n",
      "source                2175 non-null object\n",
      "text                  2175 non-null object\n",
      "rating_numerator      2175 non-null int64\n",
      "rating_denominator    2175 non-null int64\n",
      "name                  2175 non-null object\n",
      "dog_stage             2175 non-null object\n",
      "jpg_url               1928 non-null object\n",
      "img_num               1928 non-null float64\n",
      "p1                    1928 non-null object\n",
      "p1_conf               1928 non-null float64\n",
      "p1_dog                1928 non-null object\n",
      "p2                    1928 non-null object\n",
      "p2_conf               1928 non-null float64\n",
      "p2_dog                1928 non-null object\n",
      "p3                    1928 non-null object\n",
      "p3_conf               1928 non-null float64\n",
      "p3_dog                1928 non-null object\n",
      "favorites             2175 non-null int64\n",
      "retweets              2175 non-null int64\n",
      "followers             2175 non-null int64\n",
      "retweeted_status      2175 non-null object\n",
      "dtypes: datetime64[ns](1), float64(4), int64(5), object(13)\n",
      "memory usage: 407.8+ KB\n"
     ]
    }
   ],
   "source": [
    "df.info()"
   ]
  },
  {
   "cell_type": "markdown",
   "metadata": {},
   "source": [
    "Now I will drop all unnecessary columns, to have the final dataset clean and ready to be stored."
   ]
  },
  {
   "cell_type": "code",
   "execution_count": 50,
   "metadata": {},
   "outputs": [],
   "source": [
    "df = df.drop(['img_num', 'p1_conf', 'p1_dog', 'p2_conf', 'p2_dog','p3_conf', 'p3_dog'], axis=1)"
   ]
  },
  {
   "cell_type": "code",
   "execution_count": 51,
   "metadata": {},
   "outputs": [
    {
     "data": {
      "text/html": [
       "<div>\n",
       "<style>\n",
       "    .dataframe thead tr:only-child th {\n",
       "        text-align: right;\n",
       "    }\n",
       "\n",
       "    .dataframe thead th {\n",
       "        text-align: left;\n",
       "    }\n",
       "\n",
       "    .dataframe tbody tr th {\n",
       "        vertical-align: top;\n",
       "    }\n",
       "</style>\n",
       "<table border=\"1\" class=\"dataframe\">\n",
       "  <thead>\n",
       "    <tr style=\"text-align: right;\">\n",
       "      <th></th>\n",
       "      <th>tweet_id</th>\n",
       "      <th>timestamp</th>\n",
       "      <th>source</th>\n",
       "      <th>text</th>\n",
       "      <th>rating_numerator</th>\n",
       "      <th>rating_denominator</th>\n",
       "      <th>name</th>\n",
       "      <th>dog_stage</th>\n",
       "      <th>jpg_url</th>\n",
       "      <th>p1</th>\n",
       "      <th>p2</th>\n",
       "      <th>p3</th>\n",
       "      <th>favorites</th>\n",
       "      <th>retweets</th>\n",
       "      <th>followers</th>\n",
       "      <th>retweeted_status</th>\n",
       "    </tr>\n",
       "  </thead>\n",
       "  <tbody>\n",
       "    <tr>\n",
       "      <th>0</th>\n",
       "      <td>892420643555336193</td>\n",
       "      <td>2017-08-01 16:23:56</td>\n",
       "      <td>http://twitter.com/download/iphone</td>\n",
       "      <td>This is Phineas. He's a mystical boy. Only eve...</td>\n",
       "      <td>13</td>\n",
       "      <td>10</td>\n",
       "      <td>Phineas</td>\n",
       "      <td>None</td>\n",
       "      <td>https://pbs.twimg.com/media/DGKD1-bXoAAIAUK.jpg</td>\n",
       "      <td>orange</td>\n",
       "      <td>bagel</td>\n",
       "      <td>banana</td>\n",
       "      <td>39467</td>\n",
       "      <td>8853</td>\n",
       "      <td>3200889</td>\n",
       "      <td>Original tweet</td>\n",
       "    </tr>\n",
       "    <tr>\n",
       "      <th>1</th>\n",
       "      <td>892177421306343426</td>\n",
       "      <td>2017-08-01 00:17:27</td>\n",
       "      <td>http://twitter.com/download/iphone</td>\n",
       "      <td>This is Tilly. She's just checking pup on you....</td>\n",
       "      <td>13</td>\n",
       "      <td>10</td>\n",
       "      <td>Tilly</td>\n",
       "      <td>None</td>\n",
       "      <td>https://pbs.twimg.com/media/DGGmoV4XsAAUL6n.jpg</td>\n",
       "      <td>Chihuahua</td>\n",
       "      <td>Pekinese</td>\n",
       "      <td>papillon</td>\n",
       "      <td>33819</td>\n",
       "      <td>6514</td>\n",
       "      <td>3200889</td>\n",
       "      <td>Original tweet</td>\n",
       "    </tr>\n",
       "    <tr>\n",
       "      <th>2</th>\n",
       "      <td>891815181378084864</td>\n",
       "      <td>2017-07-31 00:18:03</td>\n",
       "      <td>http://twitter.com/download/iphone</td>\n",
       "      <td>This is Archie. He is a rare Norwegian Pouncin...</td>\n",
       "      <td>12</td>\n",
       "      <td>10</td>\n",
       "      <td>Archie</td>\n",
       "      <td>None</td>\n",
       "      <td>https://pbs.twimg.com/media/DGBdLU1WsAANxJ9.jpg</td>\n",
       "      <td>Chihuahua</td>\n",
       "      <td>malamute</td>\n",
       "      <td>kelpie</td>\n",
       "      <td>25461</td>\n",
       "      <td>4328</td>\n",
       "      <td>3200889</td>\n",
       "      <td>Original tweet</td>\n",
       "    </tr>\n",
       "  </tbody>\n",
       "</table>\n",
       "</div>"
      ],
      "text/plain": [
       "             tweet_id           timestamp                              source  \\\n",
       "0  892420643555336193 2017-08-01 16:23:56  http://twitter.com/download/iphone   \n",
       "1  892177421306343426 2017-08-01 00:17:27  http://twitter.com/download/iphone   \n",
       "2  891815181378084864 2017-07-31 00:18:03  http://twitter.com/download/iphone   \n",
       "\n",
       "                                                text  rating_numerator  \\\n",
       "0  This is Phineas. He's a mystical boy. Only eve...                13   \n",
       "1  This is Tilly. She's just checking pup on you....                13   \n",
       "2  This is Archie. He is a rare Norwegian Pouncin...                12   \n",
       "\n",
       "   rating_denominator     name dog_stage  \\\n",
       "0                  10  Phineas     None    \n",
       "1                  10    Tilly     None    \n",
       "2                  10   Archie     None    \n",
       "\n",
       "                                           jpg_url         p1        p2  \\\n",
       "0  https://pbs.twimg.com/media/DGKD1-bXoAAIAUK.jpg     orange     bagel   \n",
       "1  https://pbs.twimg.com/media/DGGmoV4XsAAUL6n.jpg  Chihuahua  Pekinese   \n",
       "2  https://pbs.twimg.com/media/DGBdLU1WsAANxJ9.jpg  Chihuahua  malamute   \n",
       "\n",
       "         p3  favorites  retweets  followers retweeted_status  \n",
       "0    banana      39467      8853    3200889   Original tweet  \n",
       "1  papillon      33819      6514    3200889   Original tweet  \n",
       "2    kelpie      25461      4328    3200889   Original tweet  "
      ]
     },
     "execution_count": 51,
     "metadata": {},
     "output_type": "execute_result"
    }
   ],
   "source": [
    "df.head(3)"
   ]
  },
  {
   "cell_type": "markdown",
   "metadata": {},
   "source": [
    "<a id='sav'></a>\n",
    "## <font color='darkblue'>Storing, Analyzing, and Visualizing</font>\n",
    "\n",
    "Store the clean combined dataframe in a csv file"
   ]
  },
  {
   "cell_type": "code",
   "execution_count": 52,
   "metadata": {},
   "outputs": [],
   "source": [
    "# Store final dataframe\n",
    "df.to_csv('twitter_archive_master.csv', index=False, encoding = 'utf-8')"
   ]
  },
  {
   "cell_type": "markdown",
   "metadata": {},
   "source": [
    "After storing the dataset in a seperate file, we will look for some insights:    \n",
    "**1) What is the most common dog type from the first prediction?    \n",
    "2)  What is the relationship between the number of retweets and favorites?    \n",
    "3)  How is the rating changing over time?**"
   ]
  },
  {
   "cell_type": "markdown",
   "metadata": {},
   "source": [
    "### Descriptive statistical analysis:"
   ]
  },
  {
   "cell_type": "code",
   "execution_count": 53,
   "metadata": {},
   "outputs": [
    {
     "data": {
      "text/html": [
       "<div>\n",
       "<style>\n",
       "    .dataframe thead tr:only-child th {\n",
       "        text-align: right;\n",
       "    }\n",
       "\n",
       "    .dataframe thead th {\n",
       "        text-align: left;\n",
       "    }\n",
       "\n",
       "    .dataframe tbody tr th {\n",
       "        vertical-align: top;\n",
       "    }\n",
       "</style>\n",
       "<table border=\"1\" class=\"dataframe\">\n",
       "  <thead>\n",
       "    <tr style=\"text-align: right;\">\n",
       "      <th></th>\n",
       "      <th>rating_numerator</th>\n",
       "      <th>rating_denominator</th>\n",
       "      <th>favorites</th>\n",
       "      <th>retweets</th>\n",
       "      <th>followers</th>\n",
       "    </tr>\n",
       "  </thead>\n",
       "  <tbody>\n",
       "    <tr>\n",
       "      <th>count</th>\n",
       "      <td>2175.000000</td>\n",
       "      <td>2175.000000</td>\n",
       "      <td>2175.000000</td>\n",
       "      <td>2175.000000</td>\n",
       "      <td>2.175000e+03</td>\n",
       "    </tr>\n",
       "    <tr>\n",
       "      <th>mean</th>\n",
       "      <td>13.215172</td>\n",
       "      <td>10.492874</td>\n",
       "      <td>8746.022989</td>\n",
       "      <td>2757.987126</td>\n",
       "      <td>3.200945e+06</td>\n",
       "    </tr>\n",
       "    <tr>\n",
       "      <th>std</th>\n",
       "      <td>47.725696</td>\n",
       "      <td>7.019084</td>\n",
       "      <td>12052.503836</td>\n",
       "      <td>4646.599662</td>\n",
       "      <td>4.417845e+01</td>\n",
       "    </tr>\n",
       "    <tr>\n",
       "      <th>min</th>\n",
       "      <td>0.000000</td>\n",
       "      <td>0.000000</td>\n",
       "      <td>52.000000</td>\n",
       "      <td>0.000000</td>\n",
       "      <td>3.200799e+06</td>\n",
       "    </tr>\n",
       "    <tr>\n",
       "      <th>25%</th>\n",
       "      <td>10.000000</td>\n",
       "      <td>10.000000</td>\n",
       "      <td>1911.500000</td>\n",
       "      <td>608.000000</td>\n",
       "      <td>3.200901e+06</td>\n",
       "    </tr>\n",
       "    <tr>\n",
       "      <th>50%</th>\n",
       "      <td>11.000000</td>\n",
       "      <td>10.000000</td>\n",
       "      <td>4042.000000</td>\n",
       "      <td>1341.000000</td>\n",
       "      <td>3.200947e+06</td>\n",
       "    </tr>\n",
       "    <tr>\n",
       "      <th>75%</th>\n",
       "      <td>12.000000</td>\n",
       "      <td>10.000000</td>\n",
       "      <td>11107.000000</td>\n",
       "      <td>3220.000000</td>\n",
       "      <td>3.201001e+06</td>\n",
       "    </tr>\n",
       "    <tr>\n",
       "      <th>max</th>\n",
       "      <td>1776.000000</td>\n",
       "      <td>170.000000</td>\n",
       "      <td>132810.000000</td>\n",
       "      <td>79515.000000</td>\n",
       "      <td>3.201018e+06</td>\n",
       "    </tr>\n",
       "  </tbody>\n",
       "</table>\n",
       "</div>"
      ],
      "text/plain": [
       "       rating_numerator  rating_denominator      favorites      retweets  \\\n",
       "count       2175.000000         2175.000000    2175.000000   2175.000000   \n",
       "mean          13.215172           10.492874    8746.022989   2757.987126   \n",
       "std           47.725696            7.019084   12052.503836   4646.599662   \n",
       "min            0.000000            0.000000      52.000000      0.000000   \n",
       "25%           10.000000           10.000000    1911.500000    608.000000   \n",
       "50%           11.000000           10.000000    4042.000000   1341.000000   \n",
       "75%           12.000000           10.000000   11107.000000   3220.000000   \n",
       "max         1776.000000          170.000000  132810.000000  79515.000000   \n",
       "\n",
       "          followers  \n",
       "count  2.175000e+03  \n",
       "mean   3.200945e+06  \n",
       "std    4.417845e+01  \n",
       "min    3.200799e+06  \n",
       "25%    3.200901e+06  \n",
       "50%    3.200947e+06  \n",
       "75%    3.201001e+06  \n",
       "max    3.201018e+06  "
      ]
     },
     "execution_count": 53,
     "metadata": {},
     "output_type": "execute_result"
    }
   ],
   "source": [
    "df.describe()"
   ]
  },
  {
   "cell_type": "markdown",
   "metadata": {},
   "source": [
    "* The mean rating is **13.2/10** (The maximum value 1776/10 is an outlier)\n",
    "* The highest number of retweets is **79,515** with a mean of **2,758**\n",
    "* The highest number of favorites is **132,810** with a mean of **8,746**"
   ]
  },
  {
   "cell_type": "code",
   "execution_count": 54,
   "metadata": {},
   "outputs": [
    {
     "data": {
      "text/plain": [
       "golden retriever             128\n",
       "Labrador retriever            90\n",
       "Pembroke                      87\n",
       "Chihuahua                     75\n",
       "pug                           52\n",
       "chow                          38\n",
       "Pomeranian                    38\n",
       "Samoyed                       37\n",
       "toy poodle                    37\n",
       "malamute                      28\n",
       "French bulldog                26\n",
       "cocker spaniel                24\n",
       "Chesapeake Bay retriever      23\n",
       "miniature pinscher            21\n",
       "German shepherd               20\n",
       "seat belt                     20\n",
       "Siberian husky                20\n",
       "teddy                         18\n",
       "Maltese dog                   18\n",
       "Shetland sheepdog             18\n",
       "Eskimo dog                    18\n",
       "Staffordshire bullterrier     18\n",
       "Shih-Tzu                      17\n",
       "Rottweiler                    17\n",
       "Italian greyhound             16\n",
       "kuvasz                        16\n",
       "beagle                        16\n",
       "Lakeland terrier              15\n",
       "web site                      15\n",
       "Cardigan                      15\n",
       "                            ... \n",
       "timber wolf                    1\n",
       "minibus                        1\n",
       "dhole                          1\n",
       "platypus                       1\n",
       "EntleBucher                    1\n",
       "prison                         1\n",
       "revolver                       1\n",
       "cheetah                        1\n",
       "shopping basket                1\n",
       "ping-pong ball                 1\n",
       "picket fence                   1\n",
       "coho                           1\n",
       "ibex                           1\n",
       "terrapin                       1\n",
       "boathouse                      1\n",
       "crash helmet                   1\n",
       "tailed frog                    1\n",
       "silky terrier                  1\n",
       "beach wagon                    1\n",
       "beaver                         1\n",
       "traffic light                  1\n",
       "zebra                          1\n",
       "sea urchin                     1\n",
       "hand blower                    1\n",
       "agama                          1\n",
       "marmot                         1\n",
       "standard schnauzer             1\n",
       "four-poster                    1\n",
       "giant panda                    1\n",
       "groenendael                    1\n",
       "Name: p1, Length: 369, dtype: int64"
      ]
     },
     "execution_count": 54,
     "metadata": {},
     "output_type": "execute_result"
    }
   ],
   "source": [
    "# count each dog type from p1 (highest prediction)\n",
    "\n",
    "type_count = df['p1'].value_counts()\n",
    "type_count"
   ]
  },
  {
   "cell_type": "code",
   "execution_count": 55,
   "metadata": {},
   "outputs": [
    {
     "data": {
      "image/png": "[encoded data removed]",
      "text/plain": [
       "<matplotlib.figure.Figure at 0x7f0387570c18>"
      ]
     },
     "metadata": {
      "needs_background": "light"
     },
     "output_type": "display_data"
    }
   ],
   "source": [
    "# use a bar chart to visualize the top common dog types\n",
    "\n",
    "top10 = df.groupby('p1').filter(lambda x: len(x) > 27)\n",
    "top10['p1'].value_counts().plot(kind = 'bar',color='olive')\n",
    "plt.title('Top 10 Dog Prediction Types')\n",
    "plt.xlabel('Dog Type')\n",
    "plt.ylabel('Count');"
   ]
  },
  {
   "cell_type": "markdown",
   "metadata": {},
   "source": [
    ">### Insight #1:\n",
    "The most common dog type is the **Golden retriever**."
   ]
  },
  {
   "cell_type": "code",
   "execution_count": 56,
   "metadata": {
    "scrolled": true
   },
   "outputs": [
    {
     "data": {
      "image/png": "[encoded data removed]",
      "text/plain": [
       "<matplotlib.figure.Figure at 0x7f03874f5320>"
      ]
     },
     "metadata": {
      "needs_background": "light"
     },
     "output_type": "display_data"
    }
   ],
   "source": [
    "# plot retweet and favorite count (with a limit to have a clear visualization)\n",
    "\n",
    "df.plot(kind='scatter',x='retweets',y='favorites',ylim=[0,25000],xlim=[0,6000], alpha = 0.3, color = 'salmon')\n",
    "plt.title('Correlation between Retweets and Favorites');\n",
    "plt.xlabel('Retweets')\n",
    "plt.ylabel('Favorites');"
   ]
  },
  {
   "cell_type": "code",
   "execution_count": 57,
   "metadata": {},
   "outputs": [
    {
     "data": {
      "text/html": [
       "<div>\n",
       "<style>\n",
       "    .dataframe thead tr:only-child th {\n",
       "        text-align: right;\n",
       "    }\n",
       "\n",
       "    .dataframe thead th {\n",
       "        text-align: left;\n",
       "    }\n",
       "\n",
       "    .dataframe tbody tr th {\n",
       "        vertical-align: top;\n",
       "    }\n",
       "</style>\n",
       "<table border=\"1\" class=\"dataframe\">\n",
       "  <thead>\n",
       "    <tr style=\"text-align: right;\">\n",
       "      <th></th>\n",
       "      <th>retweets</th>\n",
       "      <th>favorites</th>\n",
       "    </tr>\n",
       "  </thead>\n",
       "  <tbody>\n",
       "    <tr>\n",
       "      <th>retweets</th>\n",
       "      <td>1.000000</td>\n",
       "      <td>0.911732</td>\n",
       "    </tr>\n",
       "    <tr>\n",
       "      <th>favorites</th>\n",
       "      <td>0.911732</td>\n",
       "      <td>1.000000</td>\n",
       "    </tr>\n",
       "  </tbody>\n",
       "</table>\n",
       "</div>"
      ],
      "text/plain": [
       "           retweets  favorites\n",
       "retweets   1.000000   0.911732\n",
       "favorites  0.911732   1.000000"
      ]
     },
     "execution_count": 57,
     "metadata": {},
     "output_type": "execute_result"
    }
   ],
   "source": [
    "df[['retweets','favorites']].corr()"
   ]
  },
  {
   "cell_type": "markdown",
   "metadata": {},
   "source": [
    ">### Insight #2:\n",
    "As shown in the graph above, there is a **strong positive correlation (r = 0.91)** between the number of retweets and favorites. The more retweets a tweet gets, the higher number of favorites."
   ]
  },
  {
   "cell_type": "code",
   "execution_count": 58,
   "metadata": {},
   "outputs": [
    {
     "data": {
      "image/png": "[encoded data removed]",
      "text/plain": [
       "<matplotlib.figure.Figure at 0x7f038543eef0>"
      ]
     },
     "metadata": {
      "needs_background": "light"
     },
     "output_type": "display_data"
    }
   ],
   "source": [
    "# rating_numerator range without outliers\n",
    "rates = df[\"rating_numerator\"]\n",
    "plt.boxplot(rates,showfliers=False)\n",
    "plt.title('rating_numerator Boxplot');"
   ]
  },
  {
   "cell_type": "code",
   "execution_count": 59,
   "metadata": {},
   "outputs": [],
   "source": [
    "# create date column\n",
    "df['date'] = df['timestamp'].apply(lambda time: time.strftime('%m-%d-%Y'))"
   ]
  },
  {
   "cell_type": "code",
   "execution_count": 60,
   "metadata": {},
   "outputs": [
    {
     "data": {
      "text/html": [
       "<div>\n",
       "<style>\n",
       "    .dataframe thead tr:only-child th {\n",
       "        text-align: right;\n",
       "    }\n",
       "\n",
       "    .dataframe thead th {\n",
       "        text-align: left;\n",
       "    }\n",
       "\n",
       "    .dataframe tbody tr th {\n",
       "        vertical-align: top;\n",
       "    }\n",
       "</style>\n",
       "<table border=\"1\" class=\"dataframe\">\n",
       "  <thead>\n",
       "    <tr style=\"text-align: right;\">\n",
       "      <th></th>\n",
       "      <th>rating_numerator</th>\n",
       "      <th>date</th>\n",
       "    </tr>\n",
       "  </thead>\n",
       "  <tbody>\n",
       "    <tr>\n",
       "      <th>2174</th>\n",
       "      <td>8</td>\n",
       "      <td>2015-11-15</td>\n",
       "    </tr>\n",
       "    <tr>\n",
       "      <th>2173</th>\n",
       "      <td>7</td>\n",
       "      <td>2015-11-15</td>\n",
       "    </tr>\n",
       "    <tr>\n",
       "      <th>2172</th>\n",
       "      <td>9</td>\n",
       "      <td>2015-11-15</td>\n",
       "    </tr>\n",
       "    <tr>\n",
       "      <th>2171</th>\n",
       "      <td>6</td>\n",
       "      <td>2015-11-16</td>\n",
       "    </tr>\n",
       "    <tr>\n",
       "      <th>2147</th>\n",
       "      <td>9</td>\n",
       "      <td>2015-11-16</td>\n",
       "    </tr>\n",
       "  </tbody>\n",
       "</table>\n",
       "</div>"
      ],
      "text/plain": [
       "      rating_numerator       date\n",
       "2174                 8 2015-11-15\n",
       "2173                 7 2015-11-15\n",
       "2172                 9 2015-11-15\n",
       "2171                 6 2015-11-16\n",
       "2147                 9 2015-11-16"
      ]
     },
     "execution_count": 60,
     "metadata": {},
     "output_type": "execute_result"
    }
   ],
   "source": [
    "# extract rate and date in a new df\n",
    "\n",
    "rd = df[['rating_numerator', 'date']].copy() # get the two columns needed\n",
    "\n",
    "rd['date'] = pd.to_datetime(rd['date']) # convert type to datetime\n",
    "\n",
    "rd.sort_values(by=['date'],inplace=True) # sort values by year\n",
    "\n",
    "rd.head()"
   ]
  },
  {
   "cell_type": "code",
   "execution_count": 61,
   "metadata": {},
   "outputs": [
    {
     "data": {
      "image/png": "[encoded data removed]",
      "text/plain": [
       "<matplotlib.figure.Figure at 0x7f03854d8908>"
      ]
     },
     "metadata": {
      "needs_background": "light"
     },
     "output_type": "display_data"
    }
   ],
   "source": [
    "# take the range of y-axis from the boxplot (numerators from 0 to 15)\n",
    "\n",
    "rd.plot(x = \"date\", y ='rating_numerator', ylim=[0,15], style = '*', alpha = .5, color='purple')\n",
    "plt.title('Rating over Time')\n",
    "plt.xlabel('Date')\n",
    "plt.ylabel('Numerator of Rating');"
   ]
  },
  {
   "cell_type": "markdown",
   "metadata": {},
   "source": [
    ">### Insight #3:\n",
    "As we can see from the plot above, **the ratings are getting higher over time**."
   ]
  },
  {
   "cell_type": "markdown",
   "metadata": {},
   "source": [
    "<a id='con'></a>\n",
    "## <font color='darkblue'>Conclusion</font>\n",
    "\n"
   ]
  },
  {
   "cell_type": "markdown",
   "metadata": {},
   "source": [
    "WeRateDogs Twitter account rates people's dogs with humorous comments. Over the years, this account became very popular on social media. People enjoyed looking at pictures of dogs and giving them ratings. Ratings usually have numerators higher than 10, and this was the special thing about it. Dogs got ratings higher and higher over time. There are a lot of dog images that gets tweeted everyday, which contain many types of dogs. It appears that the most common dog type is the Golden retriever. These insights apply to this dataset which was collected between 2015 and 2018."
   ]
  },
  {
   "cell_type": "markdown",
   "metadata": {},
   "source": [
    "### References:\n",
    "\n",
    "Udacity Classroom     \n",
    "Stack overflow    \n",
    "https://stackabuse.com/reading-and-writing-json-to-a-file-in-python/    \n",
    "https://developer.rhino3d.com/guides/rhinopython/python-xml-json/    \n",
    "https://www.geeksforgeeks.org/type-conversion-python/    \n",
    "https://timestamp.online/article/how-to-convert-timestamp-to-datetime-in-python    \n",
    "https://www.tutorialspoint.com/python/string_replace.htm    \n",
    "https://jakevdp.github.io/PythonDataScienceHandbook/03.07-merge-and-join.html    \n",
    "https://matplotlib.org/users/pyplot_tutorial.html    "
   ]
  }
 ],
 "metadata": {
  "kernelspec": {
   "display_name": "Python 3",
   "language": "python",
   "name": "python3"
  },
  "language_info": {
   "codemirror_mode": {
    "name": "ipython",
    "version": 3
   },
   "file_extension": ".py",
   "mimetype": "text/x-python",
   "name": "python",
   "nbconvert_exporter": "python",
   "pygments_lexer": "ipython3",
   "version": "3.6.3"
  }
 },
 "nbformat": 4,
 "nbformat_minor": 2
}
